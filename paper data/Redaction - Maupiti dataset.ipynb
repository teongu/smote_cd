{
 "cells": [
  {
   "cell_type": "code",
   "execution_count": 2,
   "metadata": {},
   "outputs": [],
   "source": [
    "%load_ext autoreload\n",
    "%autoreload 2"
   ]
  },
  {
   "cell_type": "code",
   "execution_count": 1,
   "metadata": {},
   "outputs": [],
   "source": [
    "import numpy as np\n",
    "import pandas as pd\n",
    "import random\n",
    "\n",
    "from multiprocessing import Pool\n",
    "from functools import partial\n",
    "\n",
    "from sklearn.model_selection import KFold\n",
    "\n",
    "from scipy.stats import ttest_ind\n",
    "\n",
    "from prettytable import PrettyTable"
   ]
  },
  {
   "cell_type": "code",
   "execution_count": 5,
   "metadata": {
    "scrolled": true
   },
   "outputs": [],
   "source": [
    "import performances_evaluation"
   ]
  },
  {
   "cell_type": "code",
   "execution_count": 6,
   "metadata": {},
   "outputs": [],
   "source": [
    "import smote_cd"
   ]
  },
  {
   "cell_type": "markdown",
   "metadata": {},
   "source": [
    "# Maupiti dataset "
   ]
  },
  {
   "cell_type": "code",
   "execution_count": 7,
   "metadata": {},
   "outputs": [],
   "source": [
    "X = np.load('data/maupiti_X_for_smote.npy')\n",
    "Y = np.load('data/maupiti_y_for_smote.npy')"
   ]
  },
  {
   "cell_type": "code",
   "execution_count": 8,
   "metadata": {},
   "outputs": [
    {
     "data": {
      "text/plain": [
       "(2301, 4)"
      ]
     },
     "execution_count": 8,
     "metadata": {},
     "output_type": "execute_result"
    }
   ],
   "source": [
    "Y.shape"
   ]
  },
  {
   "cell_type": "markdown",
   "metadata": {},
   "source": [
    "# Results with GB"
   ]
  },
  {
   "cell_type": "code",
   "execution_count": 97,
   "metadata": {},
   "outputs": [
    {
     "name": "stdout",
     "output_type": "stream",
     "text": [
      "Wall time: 16min 34s\n"
     ]
    }
   ],
   "source": [
    "%%time\n",
    "list_iter = np.arange(50)\n",
    "with Pool(8) as pool:\n",
    "    all_res_parallel_gb = pool.map(partial(performances_evaluation.eval_perf_gb_maupiti, X=X, Y=Y, k_folds=5), list_iter)"
   ]
  },
  {
   "cell_type": "code",
   "execution_count": 99,
   "metadata": {},
   "outputs": [],
   "source": [
    "r2_compositional_tot_gb, r2_raw_tot_gb, r2_logratio_tot_gb = [],[],[]\n",
    "logloss_compositional_tot_gb, logloss_raw_tot_gb, logloss_logratio_tot_gb = [], [], []\n",
    "rmse_compositional_tot_gb, rmse_raw_tot_gb, rmse_logratio_tot_gb = [], [], []\n",
    "accuracy_compositional_tot_gb, accuracy_raw_tot_gb, accuracy_logratio_tot_gb = [], [], []\n",
    "f1_compositional_tot_gb, f1_raw_tot_gb, f1_logratio_tot_gb = [], [], []\n",
    "\n",
    "r2_compositional_std_gb, r2_raw_std_gb, r2_logratio_std_gb = [], [], []\n",
    "logloss_compositional_std_gb, logloss_raw_std_gb, logloss_logratio_std_gb = [], [], []\n",
    "rmse_compositional_std_gb, rmse_raw_std_gb, rmse_logratio_std_gb = [], [], []\n",
    "accuracy_compositional_std_gb, accuracy_raw_std_gb, accuracy_logratio_std_gb = [], [], []\n",
    "f1_compositional_std_gb, f1_raw_std_gb, f1_logratio_std_gb = [], [], []\n",
    "\n",
    "r2_compositional, r2_raw, r2_logratio = [], [], []\n",
    "logloss_compositional, logloss_raw, logloss_logratio = [], [], []\n",
    "rmse_compositional, rmse_raw, rmse_logratio = [], [], []\n",
    "accuracy_compositional, accuracy_raw, accuracy_logratio = [], [], []\n",
    "f1_compositional, f1_raw, f1_logratio = [], [], []"
   ]
  },
  {
   "cell_type": "code",
   "execution_count": 100,
   "metadata": {},
   "outputs": [],
   "source": [
    "for i in range(len(all_res_parallel_gb)):\n",
    "    r2_compositional_temp, r2_raw_temp, r2_logratio_temp, logloss_compositional_temp, logloss_raw_temp, logloss_logratio_temp, rmse_compositional_temp, rmse_raw_temp, rmse_logratio_temp, accuracy_compositional_temp, accuracy_raw_temp, accuracy_logratio_temp, f1_compositional_temp, f1_raw_temp, f1_logratio_temp = all_res_parallel_gb[i]\n",
    "    r2_compositional.append(np.round(np.mean(r2_compositional_temp,axis=0),5))\n",
    "    r2_raw.append(np.round(np.mean(r2_raw_temp,axis=0),5))\n",
    "    r2_logratio.append(np.round(np.mean(r2_logratio_temp,axis=0),5))\n",
    "    logloss_compositional.append(np.round(np.mean(logloss_compositional_temp),5))\n",
    "    logloss_raw.append(np.round(np.mean(logloss_raw_temp),5))\n",
    "    logloss_logratio.append(np.round(np.mean(logloss_logratio_temp),5))\n",
    "    rmse_compositional.append(np.round(np.mean(rmse_compositional_temp),5))\n",
    "    rmse_raw.append(np.round(np.mean(rmse_raw_temp),5))\n",
    "    rmse_logratio.append(np.round(np.mean(rmse_logratio_temp),5))\n",
    "    accuracy_compositional.append(np.round(np.mean(accuracy_compositional_temp),5))\n",
    "    accuracy_raw.append(np.round(np.mean(accuracy_raw_temp),5))\n",
    "    accuracy_logratio.append(np.round(np.mean(accuracy_logratio_temp),5))\n",
    "    f1_compositional.append(np.round([np.mean(i) for i in f1_compositional_temp],5))\n",
    "    f1_raw.append(np.round([np.mean(i) for i in f1_raw_temp],5))\n",
    "    f1_logratio.append(np.round([np.mean(i) for i in f1_logratio_temp],5))\n",
    "\n",
    "r2_compositional_tot_gb.append(np.round(np.mean(r2_compositional,axis=0),5))\n",
    "r2_raw_tot_gb.append(np.round(np.mean(r2_raw,axis=0),5))\n",
    "r2_logratio_tot_gb.append(np.round(np.mean(r2_logratio,axis=0),5))\n",
    "logloss_compositional_tot_gb.append(np.round(np.mean(logloss_compositional),5))\n",
    "logloss_raw_tot_gb.append(np.round(np.mean(logloss_raw),5))\n",
    "logloss_logratio_tot_gb.append(np.round(np.mean(logloss_logratio),5))\n",
    "rmse_compositional_tot_gb.append(np.round(np.mean(rmse_compositional),5))\n",
    "rmse_raw_tot_gb.append(np.round(np.mean(rmse_raw),5))\n",
    "rmse_logratio_tot_gb.append(np.round(np.mean(rmse_logratio),5))\n",
    "accuracy_compositional_tot_gb.append(np.round(np.mean(accuracy_compositional),5))\n",
    "accuracy_raw_tot_gb.append(np.round(np.mean(accuracy_raw),5))\n",
    "accuracy_logratio_tot_gb.append(np.round(np.mean(accuracy_logratio),5))\n",
    "f1_compositional_tot_gb.append(np.round(np.mean(f1_compositional,axis=0),5))\n",
    "f1_raw_tot_gb.append(np.round(np.mean(f1_raw,axis=0),5))\n",
    "f1_logratio_tot_gb.append(np.round(np.mean(f1_logratio,axis=0),5))\n",
    "\n",
    "r2_compositional_std_gb.append(np.round(np.std(r2_compositional,axis=0),5))\n",
    "r2_raw_std_gb.append(np.round(np.std(r2_raw,axis=0),5))\n",
    "r2_logratio_std_gb.append(np.round(np.std(r2_logratio,axis=0),5))\n",
    "logloss_compositional_std_gb.append(np.round(np.std(logloss_compositional),5))\n",
    "logloss_raw_std_gb.append(np.round(np.std(logloss_raw),5))\n",
    "logloss_logratio_std_gb.append(np.round(np.std(logloss_logratio),5))\n",
    "rmse_compositional_std_gb.append(np.round(np.std(rmse_compositional),5))\n",
    "rmse_raw_std_gb.append(np.round(np.std(rmse_raw),5))\n",
    "rmse_logratio_std_gb.append(np.round(np.std(rmse_logratio),5))\n",
    "accuracy_compositional_std_gb.append(np.round(np.std(accuracy_compositional),5))\n",
    "accuracy_raw_std_gb.append(np.round(np.std(accuracy_raw),5))\n",
    "accuracy_logratio_std_gb.append(np.round(np.std(accuracy_logratio),5))\n",
    "f1_compositional_std_gb.append(np.round(np.std(f1_compositional,axis=0),5))\n",
    "f1_raw_std_gb.append(np.round(np.std(f1_raw,axis=0),5))\n",
    "f1_logratio_std_gb.append(np.round(np.std(f1_logratio,axis=0),5))"
   ]
  },
  {
   "cell_type": "code",
   "execution_count": 101,
   "metadata": {},
   "outputs": [
    {
     "name": "stdout",
     "output_type": "stream",
     "text": [
      "+-------------------------------------------------------------------------+\n",
      "|           RESULTS ON MAUPITI DATA WITH GRADIENT BOOSTING TREE           |\n",
      "+---------------+----------+---------------+----------+---------+---------+\n",
      "|     Model     | Accuracy | Cross-entropy | F1-score |   RMSE  |    R2   |\n",
      "+---------------+----------+---------------+----------+---------+---------+\n",
      "|      Raw      | 0.85706  |    2.53805    | 0.80873  |  0.229  | 0.58278 |\n",
      "| Compositional | 0.85864  |    2.48591    | 0.82241  | 0.22631 | 0.59555 |\n",
      "|    Logratio   | 0.85884  |    2.50403    | 0.82223  | 0.22608 | 0.59571 |\n",
      "+---------------+----------+---------------+----------+---------+---------+\n"
     ]
    }
   ],
   "source": [
    "columns_names = ['Model', 'Accuracy', 'Cross-entropy', 'F1-score', 'RMSE', 'R2']\n",
    "rows_names = ['Raw', 'Compositional', 'Logratio']\n",
    "\n",
    "pt = PrettyTable(['Model', 'Accuracy', 'Cross-entropy', 'F1-score', 'RMSE', 'R2'])\n",
    "pt.title = 'RESULTS ON MAUPITI DATA WITH GRADIENT BOOSTING TREE'\n",
    "pt.add_row(['Raw',accuracy_raw_tot_gb[0], logloss_raw_tot_gb[0], np.round(np.mean(f1_raw_tot_gb),5), rmse_raw_tot_gb[0], np.round(np.mean(r2_raw_tot_gb),5)])\n",
    "pt.add_row(['Compositional',accuracy_compositional_tot_gb[0], logloss_compositional_tot_gb[0], np.round(np.mean(f1_compositional_tot_gb),5), rmse_compositional_tot_gb[0], np.round(np.mean(r2_compositional_tot_gb),5)])\n",
    "pt.add_row(['Logratio',accuracy_logratio_tot_gb[0], logloss_logratio_tot_gb[0], np.round(np.mean(f1_logratio_tot_gb),5), rmse_logratio_tot_gb[0], np.round(np.mean(r2_logratio_tot_gb),5)])\n",
    "\n",
    "print(pt)"
   ]
  },
  {
   "cell_type": "code",
   "execution_count": 102,
   "metadata": {},
   "outputs": [
    {
     "name": "stdout",
     "output_type": "stream",
     "text": [
      "+-------------------------------------------------------------------------+\n",
      "|             STD ON TECATOR DATA WITH GRADIENT BOOSTING TREE             |\n",
      "+---------------+----------+---------------+----------+---------+---------+\n",
      "|     Model     | Accuracy | Cross-entropy | F1-score |   RMSE  |    R2   |\n",
      "+---------------+----------+---------------+----------+---------+---------+\n",
      "|      Raw      | 0.00312  |    0.19585    | 0.03091  | 0.00265 | 0.01815 |\n",
      "| Compositional | 0.00364  |    0.14871    | 0.02792  | 0.00302 | 0.01847 |\n",
      "|    Logratio   | 0.00307  |    0.18208    | 0.02843  | 0.00269 | 0.01912 |\n",
      "+---------------+----------+---------------+----------+---------+---------+\n"
     ]
    }
   ],
   "source": [
    "columns_names = ['Model', 'Accuracy', 'Cross-entropy', 'F1-score', 'RMSE', 'R2']\n",
    "rows_names = ['Raw', 'Compositional', 'Logratio']\n",
    "\n",
    "pt = PrettyTable(['Model', 'Accuracy', 'Cross-entropy', 'F1-score', 'RMSE', 'R2'])\n",
    "pt.title = 'STD ON TECATOR DATA WITH GRADIENT BOOSTING TREE'\n",
    "pt.add_row(['Raw',accuracy_raw_std_gb[0], logloss_raw_std_gb[0], np.round(np.mean(f1_raw_std_gb),5), rmse_raw_std_gb[0], np.round(np.mean(r2_raw_std_gb),5)])\n",
    "pt.add_row(['Compositional',accuracy_compositional_std_gb[0], logloss_compositional_std_gb[0], np.round(np.mean(f1_compositional_std_gb),5), rmse_compositional_std_gb[0], np.round(np.mean(r2_compositional_std_gb),5)])\n",
    "pt.add_row(['Logratio',accuracy_logratio_std_gb[0], logloss_logratio_std_gb[0], np.round(np.mean(f1_logratio_std_gb),5), rmse_logratio_std_gb[0], np.round(np.mean(r2_logratio_std_gb),5)])\n",
    "\n",
    "print(pt)"
   ]
  },
  {
   "cell_type": "code",
   "execution_count": 103,
   "metadata": {},
   "outputs": [
    {
     "name": "stdout",
     "output_type": "stream",
     "text": [
      "Accuracy raw-compositional Ttest_indResult(statistic=-2.309539143950532, pvalue=0.02301253868208329)\n",
      "Accuracy raw-logratio Ttest_indResult(statistic=-2.850461348812811, pvalue=0.005322770488433908)\n",
      "Crossentropy raw-compositional Ttest_indResult(statistic=1.484240525110806, pvalue=0.1409544694943164)\n",
      "Crossentropy raw-logratio Ttest_indResult(statistic=0.8905284551524786, pvalue=0.37536324214979133)\n",
      "RMSE raw-compositional Ttest_indResult(statistic=4.681831866321815, pvalue=9.142609764084055e-06)\n",
      "RMSE raw-logratio Ttest_indResult(statistic=5.405851432327238, pvalue=4.5439583486187e-07)\n",
      "R2 raw-compositional Ttest_indResult(statistic=-4.936904242054122, pvalue=3.2589575877884725e-06)\n",
      "R2 raw-logratio Ttest_indResult(statistic=-5.138545990759507, pvalue=1.4125855279348236e-06)\n",
      "F1 raw-compositional Ttest_indResult(statistic=-9.265914358492433, pvalue=4.745424194572028e-15)\n",
      "F1 raw-logratio Ttest_indResult(statistic=-9.343402259187783, pvalue=3.222407945783229e-15)\n"
     ]
    }
   ],
   "source": [
    "print('Accuracy raw-compositional',ttest_ind(accuracy_raw,accuracy_compositional))\n",
    "print('Accuracy raw-logratio',ttest_ind(accuracy_raw,accuracy_logratio))\n",
    "\n",
    "print('Crossentropy raw-compositional',ttest_ind(logloss_raw,logloss_compositional))\n",
    "print('Crossentropy raw-logratio',ttest_ind(logloss_raw,logloss_logratio))\n",
    "\n",
    "print('RMSE raw-compositional',ttest_ind(rmse_raw,rmse_compositional))\n",
    "print('RMSE raw-logratio',ttest_ind(rmse_raw,rmse_logratio))\n",
    "\n",
    "print('R2 raw-compositional',ttest_ind(np.mean(r2_raw,axis=1),np.mean(r2_compositional,axis=1)))\n",
    "print('R2 raw-logratio',ttest_ind(np.mean(r2_raw,axis=1),np.mean(r2_logratio,axis=1)))\n",
    "\n",
    "print('F1 raw-compositional',ttest_ind(np.mean(f1_raw,axis=1),np.mean(f1_compositional,axis=1)))\n",
    "print('F1 raw-logratio',ttest_ind(np.mean(f1_raw,axis=1),np.mean(f1_logratio,axis=1)))"
   ]
  },
  {
   "cell_type": "markdown",
   "metadata": {},
   "source": [
    "# With NN"
   ]
  },
  {
   "cell_type": "code",
   "execution_count": 145,
   "metadata": {},
   "outputs": [
    {
     "name": "stdout",
     "output_type": "stream",
     "text": [
      "Wall time: 1h 9min 27s\n"
     ]
    }
   ],
   "source": [
    "%%time\n",
    "list_iter = np.arange(50)\n",
    "with Pool(8) as pool:\n",
    "    all_res_parallel_nn = pool.map(partial(performances_evaluation.eval_perf_nn_maupiti, X=X, Y=Y, k_folds=5), list_iter)"
   ]
  },
  {
   "cell_type": "code",
   "execution_count": 146,
   "metadata": {},
   "outputs": [],
   "source": [
    "r2_compositional_tot_nn, r2_raw_tot_nn, r2_logratio_tot_nn = [],[],[]\n",
    "logloss_compositional_tot_nn, logloss_raw_tot_nn, logloss_logratio_tot_nn = [], [], []\n",
    "rmse_compositional_tot_nn, rmse_raw_tot_nn, rmse_logratio_tot_nn = [], [], []\n",
    "accuracy_compositional_tot_nn, accuracy_raw_tot_nn, accuracy_logratio_tot_nn = [], [], []\n",
    "f1_compositional_tot_nn, f1_raw_tot_nn, f1_logratio_tot_nn = [], [], []\n",
    "\n",
    "r2_compositional_std_nn, r2_raw_std_nn, r2_logratio_std_nn = [], [], []\n",
    "logloss_compositional_std_nn, logloss_raw_std_nn, logloss_logratio_std_nn = [], [], []\n",
    "rmse_compositional_std_nn, rmse_raw_std_nn, rmse_logratio_std_nn = [], [], []\n",
    "accuracy_compositional_std_nn, accuracy_raw_std_nn, accuracy_logratio_std_nn = [], [], []\n",
    "f1_compositional_std_nn, f1_raw_std_nn, f1_logratio_std_nn = [], [], []\n",
    "\n",
    "r2_compositional, r2_raw, r2_logratio = [], [], []\n",
    "logloss_compositional, logloss_raw, logloss_logratio = [], [], []\n",
    "rmse_compositional, rmse_raw, rmse_logratio = [], [], []\n",
    "accuracy_compositional, accuracy_raw, accuracy_logratio = [], [], []\n",
    "f1_compositional, f1_raw, f1_logratio = [], [], []"
   ]
  },
  {
   "cell_type": "code",
   "execution_count": 147,
   "metadata": {},
   "outputs": [],
   "source": [
    "for i in range(len(all_res_parallel_nn)):\n",
    "    r2_compositional_temp, r2_raw_temp, r2_logratio_temp, logloss_compositional_temp, logloss_raw_temp, logloss_logratio_temp, rmse_compositional_temp, rmse_raw_temp, rmse_logratio_temp, accuracy_compositional_temp, accuracy_raw_temp, accuracy_logratio_temp, f1_compositional_temp, f1_raw_temp, f1_logratio_temp = all_res_parallel_nn[i]\n",
    "    r2_compositional.append(np.round(np.mean(r2_compositional_temp,axis=0),5))\n",
    "    r2_raw.append(np.round(np.mean(r2_raw_temp,axis=0),5))\n",
    "    r2_logratio.append(np.round(np.mean(r2_logratio_temp,axis=0),5))\n",
    "    logloss_compositional.append(np.round(np.mean(logloss_compositional_temp),5))\n",
    "    logloss_raw.append(np.round(np.mean(logloss_raw_temp),5))\n",
    "    logloss_logratio.append(np.round(np.mean(logloss_logratio_temp),5))\n",
    "    rmse_compositional.append(np.round(np.mean(rmse_compositional_temp),5))\n",
    "    rmse_raw.append(np.round(np.mean(rmse_raw_temp),5))\n",
    "    rmse_logratio.append(np.round(np.mean(rmse_logratio_temp),5))\n",
    "    accuracy_compositional.append(np.round(np.mean(accuracy_compositional_temp),5))\n",
    "    accuracy_raw.append(np.round(np.mean(accuracy_raw_temp),5))\n",
    "    accuracy_logratio.append(np.round(np.mean(accuracy_logratio_temp),5))\n",
    "    f1_compositional.append(np.round(np.mean(f1_compositional_temp,axis=0),5))\n",
    "    f1_raw.append(np.round(np.mean(f1_raw_temp,axis=0),5))\n",
    "    f1_logratio.append(np.round(np.mean(f1_logratio_temp,axis=0),5))\n",
    "\n",
    "r2_compositional_tot_nn.append(np.round(np.mean(r2_compositional,axis=0),5))\n",
    "r2_raw_tot_nn.append(np.round(np.mean(r2_raw,axis=0),5))\n",
    "r2_logratio_tot_nn.append(np.round(np.mean(r2_logratio,axis=0),5))\n",
    "logloss_compositional_tot_nn.append(np.round(np.mean(logloss_compositional),5))\n",
    "logloss_raw_tot_nn.append(np.round(np.mean(logloss_raw),5))\n",
    "logloss_logratio_tot_nn.append(np.round(np.mean(logloss_logratio),5))\n",
    "rmse_compositional_tot_nn.append(np.round(np.mean(rmse_compositional),5))\n",
    "rmse_raw_tot_nn.append(np.round(np.mean(rmse_raw),5))\n",
    "rmse_logratio_tot_nn.append(np.round(np.mean(rmse_logratio),5))\n",
    "accuracy_compositional_tot_nn.append(np.round(np.mean(accuracy_compositional),5))\n",
    "accuracy_raw_tot_nn.append(np.round(np.mean(accuracy_raw),5))\n",
    "accuracy_logratio_tot_nn.append(np.round(np.mean(accuracy_logratio),5))\n",
    "f1_compositional_tot_nn.append(np.round(np.mean(f1_compositional,axis=0),5))\n",
    "f1_raw_tot_nn.append(np.round(np.mean(f1_raw,axis=0),5))\n",
    "f1_logratio_tot_nn.append(np.round(np.mean(f1_logratio,axis=0),5))\n",
    "\n",
    "r2_compositional_std_nn.append(np.round(np.std(r2_compositional,axis=0),5))\n",
    "r2_raw_std_nn.append(np.round(np.std(r2_raw,axis=0),5))\n",
    "r2_logratio_std_nn.append(np.round(np.std(r2_logratio,axis=0),5))\n",
    "logloss_compositional_std_nn.append(np.round(np.std(logloss_compositional),5))\n",
    "logloss_raw_std_nn.append(np.round(np.std(logloss_raw),5))\n",
    "logloss_logratio_std_nn.append(np.round(np.std(logloss_logratio),5))\n",
    "rmse_compositional_std_nn.append(np.round(np.std(rmse_compositional),5))\n",
    "rmse_raw_std_nn.append(np.round(np.std(rmse_raw),5))\n",
    "rmse_logratio_std_nn.append(np.round(np.std(rmse_logratio),5))\n",
    "accuracy_compositional_std_nn.append(np.round(np.std(accuracy_compositional),5))\n",
    "accuracy_raw_std_nn.append(np.round(np.std(accuracy_raw),5))\n",
    "accuracy_logratio_std_nn.append(np.round(np.std(accuracy_logratio),5))\n",
    "f1_compositional_std_nn.append(np.round(np.std(f1_compositional,axis=0),5))\n",
    "f1_raw_std_nn.append(np.round(np.std(f1_raw,axis=0),5))\n",
    "f1_logratio_std_nn.append(np.round(np.std(f1_logratio,axis=0),5))"
   ]
  },
  {
   "cell_type": "code",
   "execution_count": 159,
   "metadata": {},
   "outputs": [
    {
     "name": "stdout",
     "output_type": "stream",
     "text": [
      "+-------------------------------------------------------------------------+\n",
      "|               RESULTS ON MAUPITI DATA WITH NEURAL NETWORK               |\n",
      "+---------------+----------+---------------+----------+---------+---------+\n",
      "|     Model     | Accuracy | Cross-entropy | F1-score |   RMSE  |    R2   |\n",
      "+---------------+----------+---------------+----------+---------+---------+\n",
      "|      Raw      | 0.87657  |    4.04811    | 0.83129  | 0.21433 | 0.62426 |\n",
      "| Compositional | 0.87753  |    3.95596    | 0.83404  | 0.21338 | 0.62248 |\n",
      "|    Logratio   | 0.87719  |    3.98183    | 0.83479  | 0.21356 | 0.62338 |\n",
      "+---------------+----------+---------------+----------+---------+---------+\n"
     ]
    }
   ],
   "source": [
    "columns_names = ['Model', 'Accuracy', 'Cross-entropy', 'F1-score', 'RMSE', 'R2']\n",
    "rows_names = ['Raw', 'Compositional', 'Logratio']\n",
    "\n",
    "pt = PrettyTable(['Model', 'Accuracy', 'Cross-entropy', 'F1-score', 'RMSE', 'R2'])\n",
    "pt.title = 'RESULTS ON MAUPITI DATA WITH NEURAL NETWORK'\n",
    "pt.add_row(['Raw',accuracy_raw_tot_nn[0], logloss_raw_tot_nn[0], np.round(np.mean(f1_raw_tot_nn),5), rmse_raw_tot_nn[0], np.round(np.mean(r2_raw_tot_nn),5)])\n",
    "pt.add_row(['Compositional',accuracy_compositional_tot_nn[0], logloss_compositional_tot_nn[0], np.round(np.mean(f1_compositional_tot_nn),5), rmse_compositional_tot_nn[0], np.round(np.mean(r2_compositional_tot_nn),5)])\n",
    "pt.add_row(['Logratio',accuracy_logratio_tot_nn[0], logloss_logratio_tot_nn[0], np.round(np.mean(f1_logratio_tot_nn),5), rmse_logratio_tot_nn[0], np.round(np.mean(r2_logratio_tot_nn),5)])\n",
    "\n",
    "print(pt)"
   ]
  },
  {
   "cell_type": "code",
   "execution_count": 158,
   "metadata": {},
   "outputs": [
    {
     "name": "stdout",
     "output_type": "stream",
     "text": [
      "+-------------------------------------------------------------------------+\n",
      "|                 STD ON MAUPITI DATA WITH NEURAL NETWORK                 |\n",
      "+---------------+----------+---------------+----------+---------+---------+\n",
      "|     Model     | Accuracy | Cross-entropy | F1-score |   RMSE  |    R2   |\n",
      "+---------------+----------+---------------+----------+---------+---------+\n",
      "|      Raw      | 0.00317  |    0.41591    | 0.00848  | 0.00286 | 0.01771 |\n",
      "| Compositional | 0.00347  |    0.40597    | 0.00962  | 0.00317 | 0.02043 |\n",
      "|    Logratio   | 0.00327  |    0.45557    | 0.00886  | 0.00266 |  0.0169 |\n",
      "+---------------+----------+---------------+----------+---------+---------+\n"
     ]
    }
   ],
   "source": [
    "columns_names = ['Model', 'Accuracy', 'Cross-entropy', 'F1-score', 'RMSE', 'R2']\n",
    "rows_names = ['Raw', 'Compositional', 'Logratio']\n",
    "\n",
    "pt = PrettyTable(['Model', 'Accuracy', 'Cross-entropy', 'F1-score', 'RMSE', 'R2'])\n",
    "pt.title = 'STD ON MAUPITI DATA WITH NEURAL NETWORK'\n",
    "pt.add_row(['Raw',accuracy_raw_std_nn[0], logloss_raw_std_nn[0], np.round(np.mean(f1_raw_std_nn),5), rmse_raw_std_nn[0], np.round(np.mean(r2_raw_std_nn),5)])\n",
    "pt.add_row(['Compositional',accuracy_compositional_std_nn[0], logloss_compositional_std_nn[0], np.round(np.mean(f1_compositional_std_nn),5), rmse_compositional_std_nn[0], np.round(np.mean(r2_compositional_std_nn),5)])\n",
    "pt.add_row(['Logratio',accuracy_logratio_std_nn[0], logloss_logratio_std_nn[0], np.round(np.mean(f1_logratio_std_nn),5), rmse_logratio_std_nn[0], np.round(np.mean(r2_logratio_std_nn),5)])\n",
    "\n",
    "print(pt)"
   ]
  },
  {
   "cell_type": "code",
   "execution_count": 157,
   "metadata": {
    "scrolled": true
   },
   "outputs": [
    {
     "name": "stdout",
     "output_type": "stream",
     "text": [
      "Accuracy raw-compositional Ttest_indResult(statistic=-1.4377765210760756, pvalue=0.15368303385051568)\n",
      "Accuracy raw-logratio Ttest_indResult(statistic=-0.9481744871736097, pvalue=0.34537291846759643)\n",
      "Crossentropy raw-compositional Ttest_indResult(statistic=1.1098023014533045, pvalue=0.26980004506105587)\n",
      "Crossentropy raw-logratio Ttest_indResult(statistic=0.7520911489017255, pvalue=0.45379883612241256)\n",
      "RMSE raw-compositional Ttest_indResult(statistic=1.5655607929688617, pvalue=0.12067497337000917)\n",
      "RMSE raw-logratio Ttest_indResult(statistic=1.3779621474646544, pvalue=0.17135325489144612)\n",
      "R2 raw-compositional Ttest_indResult(statistic=0.6326381559798302, pvalue=0.5284433361124202)\n",
      "R2 raw-logratio Ttest_indResult(statistic=0.36611783191774483, pvalue=0.7150663273751731)\n",
      "F1 raw-compositional Ttest_indResult(statistic=-2.0487696786513108, pvalue=0.043157795126318454)\n",
      "F1 raw-logratio Ttest_indResult(statistic=-2.831723043150941, pvalue=0.0056193184518877805)\n"
     ]
    }
   ],
   "source": [
    "print('Accuracy raw-compositional',ttest_ind(accuracy_raw,accuracy_compositional))\n",
    "print('Accuracy raw-logratio',ttest_ind(accuracy_raw,accuracy_logratio))\n",
    "\n",
    "print('Crossentropy raw-compositional',ttest_ind(logloss_raw,logloss_compositional))\n",
    "print('Crossentropy raw-logratio',ttest_ind(logloss_raw,logloss_logratio))\n",
    "\n",
    "print('RMSE raw-compositional',ttest_ind(rmse_raw,rmse_compositional))\n",
    "print('RMSE raw-logratio',ttest_ind(rmse_raw,rmse_logratio))\n",
    "\n",
    "print('R2 raw-compositional',ttest_ind(np.mean(r2_raw,axis=1),np.mean(r2_compositional,axis=1)))\n",
    "print('R2 raw-logratio',ttest_ind(np.mean(r2_raw,axis=1),np.mean(r2_logratio,axis=1)))\n",
    "\n",
    "print('F1 raw-compositional',ttest_ind(np.mean(f1_raw,axis=1),np.mean(f1_compositional,axis=1)))\n",
    "print('F1 raw-logratio',ttest_ind(np.mean(f1_raw,axis=1),np.mean(f1_logratio,axis=1)))"
   ]
  },
  {
   "cell_type": "markdown",
   "metadata": {},
   "source": [
    "# With Dirichlet"
   ]
  },
  {
   "cell_type": "code",
   "execution_count": 105,
   "metadata": {},
   "outputs": [
    {
     "name": "stdout",
     "output_type": "stream",
     "text": [
      "Wall time: 26min 41s\n"
     ]
    }
   ],
   "source": [
    "%%time\n",
    "list_iter = np.arange(50)\n",
    "with Pool(8) as pool:\n",
    "    all_res_parallel_dirichlet = pool.map(partial(performances_evaluation.eval_perf_dirichlet, X=X, Y=Y, k_folds=5), list_iter)"
   ]
  },
  {
   "cell_type": "code",
   "execution_count": 106,
   "metadata": {},
   "outputs": [],
   "source": [
    "r2_compositional_tot_dirichlet, r2_raw_tot_dirichlet, r2_logratio_tot_dirichlet = [],[],[]\n",
    "logloss_compositional_tot_dirichlet, logloss_raw_tot_dirichlet, logloss_logratio_tot_dirichlet = [], [], []\n",
    "rmse_compositional_tot_dirichlet, rmse_raw_tot_dirichlet, rmse_logratio_tot_dirichlet = [], [], []\n",
    "accuracy_compositional_tot_dirichlet, accuracy_raw_tot_dirichlet, accuracy_logratio_tot_dirichlet = [], [], []\n",
    "f1_compositional_tot_dirichlet, f1_raw_tot_dirichlet, f1_logratio_tot_dirichlet = [], [], []\n",
    "\n",
    "r2_compositional_std_dirichlet, r2_raw_std_dirichlet, r2_logratio_std_dirichlet = [], [], []\n",
    "logloss_compositional_std_dirichlet, logloss_raw_std_dirichlet, logloss_logratio_std_dirichlet = [], [], []\n",
    "rmse_compositional_std_dirichlet, rmse_raw_std_dirichlet, rmse_logratio_std_dirichlet = [], [], []\n",
    "accuracy_compositional_std_dirichlet, accuracy_raw_std_dirichlet, accuracy_logratio_std_dirichlet = [], [], []\n",
    "f1_compositional_std_dirichlet, f1_raw_std_dirichlet, f1_logratio_std_dirichlet = [], [], []"
   ]
  },
  {
   "cell_type": "code",
   "execution_count": 107,
   "metadata": {},
   "outputs": [
    {
     "name": "stderr",
     "output_type": "stream",
     "text": [
      "C:\\Users\\tnguyen001\\AppData\\Roaming\\Python\\Python38\\site-packages\\numpy\\core\\_asarray.py:136: VisibleDeprecationWarning: Creating an ndarray from ragged nested sequences (which is a list-or-tuple of lists-or-tuples-or ndarrays with different lengths or shapes) is deprecated. If you meant to do this, you must specify 'dtype=object' when creating the ndarray\n",
      "  return array(a, dtype, copy=False, order=order, subok=True)\n"
     ]
    }
   ],
   "source": [
    "for i in range(len(all_res_parallel_dirichlet)):\n",
    "    r2_compositional_temp, r2_raw_temp, r2_logratio_temp, logloss_compositional_temp, logloss_raw_temp, logloss_logratio_temp, rmse_compositional_temp, rmse_raw_temp, rmse_logratio_temp, accuracy_compositional_temp, accuracy_raw_temp, accuracy_logratio_temp, f1_compositional_temp, f1_raw_temp, f1_logratio_temp = all_res_parallel_dirichlet[i]\n",
    "    r2_compositional.append(np.round(np.mean(r2_compositional_temp,axis=0),5))\n",
    "    r2_raw.append(np.round(np.mean(r2_raw_temp,axis=0),5))\n",
    "    r2_logratio.append(np.round(np.mean(r2_logratio_temp,axis=0),5))\n",
    "    logloss_compositional.append(np.round(np.mean(logloss_compositional_temp),5))\n",
    "    logloss_raw.append(np.round(np.mean(logloss_raw_temp),5))\n",
    "    logloss_logratio.append(np.round(np.mean(logloss_logratio_temp),5))\n",
    "    rmse_compositional.append(np.round(np.mean(rmse_compositional_temp),5))\n",
    "    rmse_raw.append(np.round(np.mean(rmse_raw_temp),5))\n",
    "    rmse_logratio.append(np.round(np.mean(rmse_logratio_temp),5))\n",
    "    accuracy_compositional.append(np.round(np.mean(accuracy_compositional_temp),5))\n",
    "    accuracy_raw.append(np.round(np.mean(accuracy_raw_temp),5))\n",
    "    accuracy_logratio.append(np.round(np.mean(accuracy_logratio_temp),5))\n",
    "    f1_compositional.append(np.round(np.mean([np.mean(i) for i in f1_compositional_temp]),5))\n",
    "    f1_raw.append(np.round(np.mean([np.mean(i) for i in f1_raw_temp]),5))\n",
    "    f1_logratio.append(np.round(np.mean([np.mean(i) for i in f1_logratio_temp]),5))\n",
    "\n",
    "r2_compositional_tot_dirichlet.append(np.round(np.mean(r2_compositional,axis=0),5))\n",
    "r2_raw_tot_dirichlet.append(np.round(np.mean(r2_raw,axis=0),5))\n",
    "r2_logratio_tot_dirichlet.append(np.round(np.mean(r2_logratio,axis=0),5))\n",
    "logloss_compositional_tot_dirichlet.append(np.round(np.mean(logloss_compositional),5))\n",
    "logloss_raw_tot_dirichlet.append(np.round(np.mean(logloss_raw),5))\n",
    "logloss_logratio_tot_dirichlet.append(np.round(np.mean(logloss_logratio),5))\n",
    "rmse_compositional_tot_dirichlet.append(np.round(np.mean(rmse_compositional),5))\n",
    "rmse_raw_tot_dirichlet.append(np.round(np.mean(rmse_raw),5))\n",
    "rmse_logratio_tot_dirichlet.append(np.round(np.mean(rmse_logratio),5))\n",
    "accuracy_compositional_tot_dirichlet.append(np.round(np.mean(accuracy_compositional),5))\n",
    "accuracy_raw_tot_dirichlet.append(np.round(np.mean(accuracy_raw),5))\n",
    "accuracy_logratio_tot_dirichlet.append(np.round(np.mean(accuracy_logratio),5))\n",
    "f1_compositional_tot_dirichlet.append(np.round(np.mean(f1_compositional,axis=0),5))\n",
    "f1_raw_tot_dirichlet.append(np.round(np.mean(f1_raw,axis=0),5))\n",
    "f1_logratio_tot_dirichlet.append(np.round(np.mean(f1_logratio,axis=0),5))\n",
    "\n",
    "r2_compositional_std_dirichlet.append(np.round(np.std(r2_compositional,axis=0),5))\n",
    "r2_raw_std_dirichlet.append(np.round(np.std(r2_raw,axis=0),5))\n",
    "r2_logratio_std_dirichlet.append(np.round(np.std(r2_logratio,axis=0),5))\n",
    "logloss_compositional_std_dirichlet.append(np.round(np.std(logloss_compositional),5))\n",
    "logloss_raw_std_dirichlet.append(np.round(np.std(logloss_raw),5))\n",
    "logloss_logratio_std_dirichlet.append(np.round(np.std(logloss_logratio),5))\n",
    "rmse_compositional_std_dirichlet.append(np.round(np.std(rmse_compositional),5))\n",
    "rmse_raw_std_dirichlet.append(np.round(np.std(rmse_raw),5))\n",
    "rmse_logratio_std_dirichlet.append(np.round(np.std(rmse_logratio),5))\n",
    "accuracy_compositional_std_dirichlet.append(np.round(np.std(accuracy_compositional),5))\n",
    "accuracy_raw_std_dirichlet.append(np.round(np.std(accuracy_raw),5))\n",
    "accuracy_logratio_std_dirichlet.append(np.round(np.std(accuracy_logratio),5))\n",
    "f1_compositional_std_dirichlet.append(np.round(np.std(f1_compositional,axis=0),5))\n",
    "f1_raw_std_dirichlet.append(np.round(np.std(f1_raw,axis=0),5))\n",
    "f1_logratio_std_dirichlet.append(np.round(np.std(f1_logratio,axis=0),5))"
   ]
  },
  {
   "cell_type": "code",
   "execution_count": 108,
   "metadata": {},
   "outputs": [
    {
     "name": "stdout",
     "output_type": "stream",
     "text": [
      "+-------------------------------------------------------------------------+\n",
      "|               RESULTS ON TECATOR DATA WITH DIRICHLET MODEL              |\n",
      "+---------------+----------+---------------+----------+---------+---------+\n",
      "|     Model     | Accuracy | Cross-entropy | F1-score |   RMSE  |    R2   |\n",
      "+---------------+----------+---------------+----------+---------+---------+\n",
      "|      Raw      | 0.80096  |    1.67552    | 0.68372  | 0.26212 | 0.42004 |\n",
      "| Compositional | 0.80961  |    1.65353    | 0.76171  | 0.26186 | 0.42277 |\n",
      "|    Logratio   | 0.80984  |    1.66257    | 0.76183  | 0.26174 | 0.42281 |\n",
      "+---------------+----------+---------------+----------+---------+---------+\n"
     ]
    }
   ],
   "source": [
    "columns_names = ['Model', 'Accuracy', 'Cross-entropy', 'F1-score', 'RMSE', 'R2']\n",
    "rows_names = ['Raw', 'Compositional', 'Logratio']\n",
    "\n",
    "pt = PrettyTable(['Model', 'Accuracy', 'Cross-entropy', 'F1-score', 'RMSE', 'R2'])\n",
    "pt.title = 'RESULTS ON TECATOR DATA WITH DIRICHLET MODEL'\n",
    "pt.add_row(['Raw',accuracy_raw_tot_dirichlet[0], logloss_raw_tot_dirichlet[0], np.round(np.mean(f1_raw_tot_dirichlet),5), rmse_raw_tot_dirichlet[0], np.round(np.mean(r2_raw_tot_dirichlet),5)])\n",
    "pt.add_row(['Compositional',accuracy_compositional_tot_dirichlet[0], logloss_compositional_tot_dirichlet[0], np.round(np.mean(f1_compositional_tot_dirichlet),5), rmse_compositional_tot_dirichlet[0], np.round(np.mean(r2_compositional_tot_dirichlet),5)])\n",
    "pt.add_row(['Logratio',accuracy_logratio_tot_dirichlet[0], logloss_logratio_tot_dirichlet[0], np.round(np.mean(f1_logratio_tot_dirichlet),5), rmse_logratio_tot_dirichlet[0], np.round(np.mean(r2_logratio_tot_dirichlet),5)])\n",
    "\n",
    "print(pt)"
   ]
  },
  {
   "cell_type": "code",
   "execution_count": 109,
   "metadata": {},
   "outputs": [
    {
     "name": "stdout",
     "output_type": "stream",
     "text": [
      "+-------------------------------------------------------------------------+\n",
      "|                 STD ON TECATOR DATA WITH DIRICHLET MODEL                |\n",
      "+---------------+----------+---------------+----------+---------+---------+\n",
      "|     Model     | Accuracy | Cross-entropy | F1-score |   RMSE  |    R2   |\n",
      "+---------------+----------+---------------+----------+---------+---------+\n",
      "|      Raw      | 0.05615  |    0.87358    | 0.12696  | 0.03318 | 0.16349 |\n",
      "| Compositional | 0.04912  |    0.83899    | 0.06407  | 0.03561 | 0.17354 |\n",
      "|    Logratio   | 0.04907  |    0.85125    | 0.06384  | 0.03572 | 0.17372 |\n",
      "+---------------+----------+---------------+----------+---------+---------+\n"
     ]
    }
   ],
   "source": [
    "columns_names = ['Model', 'Accuracy', 'Cross-entropy', 'F1-score', 'RMSE', 'R2']\n",
    "rows_names = ['Raw', 'Compositional', 'Logratio']\n",
    "\n",
    "pt = PrettyTable(['Model', 'Accuracy', 'Cross-entropy', 'F1-score', 'RMSE', 'R2'])\n",
    "pt.title = 'STD ON TECATOR DATA WITH DIRICHLET MODEL'\n",
    "pt.add_row(['Raw',accuracy_raw_std_dirichlet[0], logloss_raw_std_dirichlet[0], np.round(np.mean(f1_raw_std_dirichlet),5), rmse_raw_std_dirichlet[0], np.round(np.mean(r2_raw_std_dirichlet),5)])\n",
    "pt.add_row(['Compositional',accuracy_compositional_std_dirichlet[0], logloss_compositional_std_dirichlet[0], np.round(np.mean(f1_compositional_std_dirichlet),5), rmse_compositional_std_dirichlet[0], np.round(np.mean(r2_compositional_std_dirichlet),5)])\n",
    "pt.add_row(['Logratio',accuracy_logratio_std_dirichlet[0], logloss_logratio_std_dirichlet[0], np.round(np.mean(f1_logratio_std_dirichlet),5), rmse_logratio_std_dirichlet[0], np.round(np.mean(r2_logratio_std_dirichlet),5)])\n",
    "\n",
    "print(pt)"
   ]
  },
  {
   "cell_type": "code",
   "execution_count": 110,
   "metadata": {},
   "outputs": [
    {
     "name": "stdout",
     "output_type": "stream",
     "text": [
      "Accuracy raw-compositional Ttest_indResult(statistic=-1.1546541114215945, pvalue=0.2496237450645589)\n",
      "Accuracy raw-logratio Ttest_indResult(statistic=-1.185887198197051, pvalue=0.23708800702248567)\n",
      "Crossentropy raw-compositional Ttest_indResult(statistic=0.1806269088703874, pvalue=0.8568451783523706)\n",
      "Crossentropy raw-logratio Ttest_indResult(statistic=0.10562221303668105, pvalue=0.9159890269695223)\n",
      "RMSE raw-compositional Ttest_indResult(statistic=0.053947035666336345, pvalue=0.9570317542882343)\n",
      "RMSE raw-logratio Ttest_indResult(statistic=0.0771721189128673, pvalue=0.9385645476179647)\n",
      "R2 raw-compositional Ttest_indResult(statistic=-0.11437828804003904, pvalue=0.9090538248130264)\n",
      "R2 raw-logratio Ttest_indResult(statistic=-0.11581646124921083, pvalue=0.9079153804788491)\n",
      "F1 raw-compositional Ttest_indResult(statistic=-55.64396655833857, pvalue=1.2073658200231692e-11)\n",
      "F1 raw-logratio Ttest_indResult(statistic=-62.24099722309945, pvalue=4.936058380771813e-12)\n"
     ]
    }
   ],
   "source": [
    "print('Accuracy raw-compositional',ttest_ind(accuracy_raw,accuracy_compositional))\n",
    "print('Accuracy raw-logratio',ttest_ind(accuracy_raw,accuracy_logratio))\n",
    "\n",
    "print('Crossentropy raw-compositional',ttest_ind(logloss_raw,logloss_compositional))\n",
    "print('Crossentropy raw-logratio',ttest_ind(logloss_raw,logloss_logratio))\n",
    "\n",
    "print('RMSE raw-compositional',ttest_ind(rmse_raw,rmse_compositional))\n",
    "print('RMSE raw-logratio',ttest_ind(rmse_raw,rmse_logratio))\n",
    "\n",
    "print('R2 raw-compositional',ttest_ind(np.mean(r2_raw,axis=1),np.mean(r2_compositional,axis=1)))\n",
    "print('R2 raw-logratio',ttest_ind(np.mean(r2_raw,axis=1),np.mean(r2_logratio,axis=1)))\n",
    "\n",
    "print('F1 raw-compositional',ttest_ind(np.mean(f1_raw),np.mean(f1_compositional)))\n",
    "print('F1 raw-logratio',ttest_ind(np.mean(f1_raw),np.mean(f1_logratio)))"
   ]
  },
  {
   "cell_type": "code",
   "execution_count": null,
   "metadata": {},
   "outputs": [],
   "source": []
  }
 ],
 "metadata": {
  "kernelspec": {
   "display_name": "Python 3",
   "language": "python",
   "name": "python3"
  },
  "language_info": {
   "codemirror_mode": {
    "name": "ipython",
    "version": 3
   },
   "file_extension": ".py",
   "mimetype": "text/x-python",
   "name": "python",
   "nbconvert_exporter": "python",
   "pygments_lexer": "ipython3",
   "version": "3.8.5"
  }
 },
 "nbformat": 4,
 "nbformat_minor": 4
}
