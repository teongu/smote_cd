{
 "cells": [
  {
   "cell_type": "code",
   "execution_count": 1,
   "metadata": {},
   "outputs": [],
   "source": [
    "%load_ext autoreload\n",
    "%autoreload 2"
   ]
  },
  {
   "cell_type": "code",
   "execution_count": 2,
   "metadata": {},
   "outputs": [],
   "source": [
    "import numpy as np\n",
    "import pandas as pd\n",
    "import random\n",
    "\n",
    "from multiprocessing import Pool\n",
    "from functools import partial\n",
    "\n",
    "from sklearn.model_selection import KFold\n",
    "\n",
    "from scipy.stats import ttest_ind\n",
    "\n",
    "from prettytable import PrettyTable"
   ]
  },
  {
   "cell_type": "code",
   "execution_count": 9,
   "metadata": {},
   "outputs": [],
   "source": [
    "import performances_evaluation"
   ]
  },
  {
   "cell_type": "code",
   "execution_count": 10,
   "metadata": {},
   "outputs": [],
   "source": [
    "import smote_cd"
   ]
  },
  {
   "cell_type": "markdown",
   "metadata": {},
   "source": [
    "# Tecator dataset \n",
    "\n",
    "Comes from : https://www.openml.org/search?type=data&sort=runs&id=505&status=active\n",
    "\n",
    "The article \"Ace of bayes: Application of neural networks with pruning\" (1993), using a Neural Network, had an RMSE of 0.52 (or 0.36 ?)"
   ]
  },
  {
   "cell_type": "code",
   "execution_count": 11,
   "metadata": {},
   "outputs": [],
   "source": [
    "from scipy.io import arff\n",
    "\n",
    "data = arff.loadarff('data/tecator.arff')\n",
    "df = pd.DataFrame(data[0])"
   ]
  },
  {
   "cell_type": "code",
   "execution_count": 12,
   "metadata": {},
   "outputs": [
    {
     "data": {
      "text/html": [
       "<div>\n",
       "<style scoped>\n",
       "    .dataframe tbody tr th:only-of-type {\n",
       "        vertical-align: middle;\n",
       "    }\n",
       "\n",
       "    .dataframe tbody tr th {\n",
       "        vertical-align: top;\n",
       "    }\n",
       "\n",
       "    .dataframe thead th {\n",
       "        text-align: right;\n",
       "    }\n",
       "</style>\n",
       "<table border=\"1\" class=\"dataframe\">\n",
       "  <thead>\n",
       "    <tr style=\"text-align: right;\">\n",
       "      <th></th>\n",
       "      <th>absorbance_1</th>\n",
       "      <th>absorbance_2</th>\n",
       "      <th>absorbance_3</th>\n",
       "      <th>absorbance_4</th>\n",
       "      <th>absorbance_5</th>\n",
       "      <th>absorbance_6</th>\n",
       "      <th>absorbance_7</th>\n",
       "      <th>absorbance_8</th>\n",
       "      <th>absorbance_9</th>\n",
       "      <th>absorbance_10</th>\n",
       "      <th>...</th>\n",
       "      <th>principal_component_16</th>\n",
       "      <th>principal_component_17</th>\n",
       "      <th>principal_component_18</th>\n",
       "      <th>principal_component_19</th>\n",
       "      <th>principal_component_20</th>\n",
       "      <th>principal_component_21</th>\n",
       "      <th>principal_component_22</th>\n",
       "      <th>moisture</th>\n",
       "      <th>fat</th>\n",
       "      <th>protein</th>\n",
       "    </tr>\n",
       "  </thead>\n",
       "  <tbody>\n",
       "    <tr>\n",
       "      <th>0</th>\n",
       "      <td>2.61776</td>\n",
       "      <td>2.61814</td>\n",
       "      <td>2.61859</td>\n",
       "      <td>2.61912</td>\n",
       "      <td>2.61981</td>\n",
       "      <td>2.62071</td>\n",
       "      <td>2.62186</td>\n",
       "      <td>2.62334</td>\n",
       "      <td>2.62511</td>\n",
       "      <td>2.62722</td>\n",
       "      <td>...</td>\n",
       "      <td>0.233876</td>\n",
       "      <td>0.899661</td>\n",
       "      <td>-0.042006</td>\n",
       "      <td>0.708717</td>\n",
       "      <td>-0.254173</td>\n",
       "      <td>-0.391579</td>\n",
       "      <td>-0.419313</td>\n",
       "      <td>60.5</td>\n",
       "      <td>22.5</td>\n",
       "      <td>16.7</td>\n",
       "    </tr>\n",
       "    <tr>\n",
       "      <th>1</th>\n",
       "      <td>2.83454</td>\n",
       "      <td>2.83871</td>\n",
       "      <td>2.84283</td>\n",
       "      <td>2.84705</td>\n",
       "      <td>2.85138</td>\n",
       "      <td>2.85587</td>\n",
       "      <td>2.86060</td>\n",
       "      <td>2.86566</td>\n",
       "      <td>2.87093</td>\n",
       "      <td>2.87661</td>\n",
       "      <td>...</td>\n",
       "      <td>-0.195980</td>\n",
       "      <td>-0.046359</td>\n",
       "      <td>-0.634996</td>\n",
       "      <td>-0.354403</td>\n",
       "      <td>0.014650</td>\n",
       "      <td>0.269542</td>\n",
       "      <td>0.096692</td>\n",
       "      <td>46.0</td>\n",
       "      <td>40.1</td>\n",
       "      <td>13.5</td>\n",
       "    </tr>\n",
       "    <tr>\n",
       "      <th>2</th>\n",
       "      <td>2.58284</td>\n",
       "      <td>2.58458</td>\n",
       "      <td>2.58629</td>\n",
       "      <td>2.58808</td>\n",
       "      <td>2.58996</td>\n",
       "      <td>2.59192</td>\n",
       "      <td>2.59401</td>\n",
       "      <td>2.59627</td>\n",
       "      <td>2.59873</td>\n",
       "      <td>2.60131</td>\n",
       "      <td>...</td>\n",
       "      <td>0.795466</td>\n",
       "      <td>0.762246</td>\n",
       "      <td>-1.268580</td>\n",
       "      <td>0.690588</td>\n",
       "      <td>-0.785592</td>\n",
       "      <td>-0.671237</td>\n",
       "      <td>-0.710290</td>\n",
       "      <td>71.0</td>\n",
       "      <td>8.4</td>\n",
       "      <td>20.5</td>\n",
       "    </tr>\n",
       "    <tr>\n",
       "      <th>3</th>\n",
       "      <td>2.82286</td>\n",
       "      <td>2.82460</td>\n",
       "      <td>2.82630</td>\n",
       "      <td>2.82814</td>\n",
       "      <td>2.83001</td>\n",
       "      <td>2.83192</td>\n",
       "      <td>2.83392</td>\n",
       "      <td>2.83606</td>\n",
       "      <td>2.83842</td>\n",
       "      <td>2.84097</td>\n",
       "      <td>...</td>\n",
       "      <td>0.616500</td>\n",
       "      <td>-0.388684</td>\n",
       "      <td>-2.068390</td>\n",
       "      <td>1.276160</td>\n",
       "      <td>-0.259437</td>\n",
       "      <td>-0.140206</td>\n",
       "      <td>-0.165963</td>\n",
       "      <td>72.8</td>\n",
       "      <td>5.9</td>\n",
       "      <td>20.7</td>\n",
       "    </tr>\n",
       "    <tr>\n",
       "      <th>4</th>\n",
       "      <td>2.78813</td>\n",
       "      <td>2.78989</td>\n",
       "      <td>2.79167</td>\n",
       "      <td>2.79350</td>\n",
       "      <td>2.79538</td>\n",
       "      <td>2.79746</td>\n",
       "      <td>2.79984</td>\n",
       "      <td>2.80254</td>\n",
       "      <td>2.80553</td>\n",
       "      <td>2.80890</td>\n",
       "      <td>...</td>\n",
       "      <td>-1.095540</td>\n",
       "      <td>-1.348450</td>\n",
       "      <td>0.453559</td>\n",
       "      <td>0.402624</td>\n",
       "      <td>0.031307</td>\n",
       "      <td>0.021824</td>\n",
       "      <td>0.145777</td>\n",
       "      <td>58.3</td>\n",
       "      <td>25.5</td>\n",
       "      <td>15.5</td>\n",
       "    </tr>\n",
       "    <tr>\n",
       "      <th>...</th>\n",
       "      <td>...</td>\n",
       "      <td>...</td>\n",
       "      <td>...</td>\n",
       "      <td>...</td>\n",
       "      <td>...</td>\n",
       "      <td>...</td>\n",
       "      <td>...</td>\n",
       "      <td>...</td>\n",
       "      <td>...</td>\n",
       "      <td>...</td>\n",
       "      <td>...</td>\n",
       "      <td>...</td>\n",
       "      <td>...</td>\n",
       "      <td>...</td>\n",
       "      <td>...</td>\n",
       "      <td>...</td>\n",
       "      <td>...</td>\n",
       "      <td>...</td>\n",
       "      <td>...</td>\n",
       "      <td>...</td>\n",
       "      <td>...</td>\n",
       "    </tr>\n",
       "    <tr>\n",
       "      <th>235</th>\n",
       "      <td>3.22518</td>\n",
       "      <td>3.23016</td>\n",
       "      <td>3.23505</td>\n",
       "      <td>3.23988</td>\n",
       "      <td>3.24476</td>\n",
       "      <td>3.24971</td>\n",
       "      <td>3.25472</td>\n",
       "      <td>3.25980</td>\n",
       "      <td>3.26498</td>\n",
       "      <td>3.27041</td>\n",
       "      <td>...</td>\n",
       "      <td>-0.897510</td>\n",
       "      <td>-1.094940</td>\n",
       "      <td>-0.047774</td>\n",
       "      <td>-1.072080</td>\n",
       "      <td>0.683963</td>\n",
       "      <td>0.743673</td>\n",
       "      <td>0.824097</td>\n",
       "      <td>70.0</td>\n",
       "      <td>6.6</td>\n",
       "      <td>23.2</td>\n",
       "    </tr>\n",
       "    <tr>\n",
       "      <th>236</th>\n",
       "      <td>3.30792</td>\n",
       "      <td>3.31259</td>\n",
       "      <td>3.31733</td>\n",
       "      <td>3.32205</td>\n",
       "      <td>3.32683</td>\n",
       "      <td>3.33169</td>\n",
       "      <td>3.33663</td>\n",
       "      <td>3.34170</td>\n",
       "      <td>3.34700</td>\n",
       "      <td>3.35242</td>\n",
       "      <td>...</td>\n",
       "      <td>-1.033330</td>\n",
       "      <td>-1.196250</td>\n",
       "      <td>0.991593</td>\n",
       "      <td>-0.987896</td>\n",
       "      <td>0.813800</td>\n",
       "      <td>0.919915</td>\n",
       "      <td>0.950013</td>\n",
       "      <td>69.7</td>\n",
       "      <td>7.1</td>\n",
       "      <td>23.2</td>\n",
       "    </tr>\n",
       "    <tr>\n",
       "      <th>237</th>\n",
       "      <td>2.66103</td>\n",
       "      <td>2.66344</td>\n",
       "      <td>2.66582</td>\n",
       "      <td>2.66820</td>\n",
       "      <td>2.67065</td>\n",
       "      <td>2.67321</td>\n",
       "      <td>2.67588</td>\n",
       "      <td>2.67864</td>\n",
       "      <td>2.68160</td>\n",
       "      <td>2.68481</td>\n",
       "      <td>...</td>\n",
       "      <td>0.413767</td>\n",
       "      <td>0.500473</td>\n",
       "      <td>-0.232210</td>\n",
       "      <td>0.160583</td>\n",
       "      <td>-0.456995</td>\n",
       "      <td>-0.425684</td>\n",
       "      <td>-0.438117</td>\n",
       "      <td>69.1</td>\n",
       "      <td>7.7</td>\n",
       "      <td>22.9</td>\n",
       "    </tr>\n",
       "    <tr>\n",
       "      <th>238</th>\n",
       "      <td>3.02438</td>\n",
       "      <td>3.02997</td>\n",
       "      <td>3.03550</td>\n",
       "      <td>3.04102</td>\n",
       "      <td>3.04653</td>\n",
       "      <td>3.05209</td>\n",
       "      <td>3.05769</td>\n",
       "      <td>3.06330</td>\n",
       "      <td>3.06903</td>\n",
       "      <td>3.07484</td>\n",
       "      <td>...</td>\n",
       "      <td>-0.250646</td>\n",
       "      <td>-0.298301</td>\n",
       "      <td>-0.223632</td>\n",
       "      <td>-0.436276</td>\n",
       "      <td>0.372878</td>\n",
       "      <td>0.288446</td>\n",
       "      <td>0.383060</td>\n",
       "      <td>66.3</td>\n",
       "      <td>10.4</td>\n",
       "      <td>22.4</td>\n",
       "    </tr>\n",
       "    <tr>\n",
       "      <th>239</th>\n",
       "      <td>3.32499</td>\n",
       "      <td>3.33198</td>\n",
       "      <td>3.33895</td>\n",
       "      <td>3.34587</td>\n",
       "      <td>3.35275</td>\n",
       "      <td>3.35968</td>\n",
       "      <td>3.36673</td>\n",
       "      <td>3.37386</td>\n",
       "      <td>3.38113</td>\n",
       "      <td>3.38858</td>\n",
       "      <td>...</td>\n",
       "      <td>-1.494400</td>\n",
       "      <td>-1.082530</td>\n",
       "      <td>0.798304</td>\n",
       "      <td>-1.252180</td>\n",
       "      <td>1.245670</td>\n",
       "      <td>1.284390</td>\n",
       "      <td>1.229940</td>\n",
       "      <td>65.2</td>\n",
       "      <td>12.3</td>\n",
       "      <td>22.5</td>\n",
       "    </tr>\n",
       "  </tbody>\n",
       "</table>\n",
       "<p>240 rows × 125 columns</p>\n",
       "</div>"
      ],
      "text/plain": [
       "     absorbance_1  absorbance_2  absorbance_3  absorbance_4  absorbance_5  \\\n",
       "0         2.61776       2.61814       2.61859       2.61912       2.61981   \n",
       "1         2.83454       2.83871       2.84283       2.84705       2.85138   \n",
       "2         2.58284       2.58458       2.58629       2.58808       2.58996   \n",
       "3         2.82286       2.82460       2.82630       2.82814       2.83001   \n",
       "4         2.78813       2.78989       2.79167       2.79350       2.79538   \n",
       "..            ...           ...           ...           ...           ...   \n",
       "235       3.22518       3.23016       3.23505       3.23988       3.24476   \n",
       "236       3.30792       3.31259       3.31733       3.32205       3.32683   \n",
       "237       2.66103       2.66344       2.66582       2.66820       2.67065   \n",
       "238       3.02438       3.02997       3.03550       3.04102       3.04653   \n",
       "239       3.32499       3.33198       3.33895       3.34587       3.35275   \n",
       "\n",
       "     absorbance_6  absorbance_7  absorbance_8  absorbance_9  absorbance_10  \\\n",
       "0         2.62071       2.62186       2.62334       2.62511        2.62722   \n",
       "1         2.85587       2.86060       2.86566       2.87093        2.87661   \n",
       "2         2.59192       2.59401       2.59627       2.59873        2.60131   \n",
       "3         2.83192       2.83392       2.83606       2.83842        2.84097   \n",
       "4         2.79746       2.79984       2.80254       2.80553        2.80890   \n",
       "..            ...           ...           ...           ...            ...   \n",
       "235       3.24971       3.25472       3.25980       3.26498        3.27041   \n",
       "236       3.33169       3.33663       3.34170       3.34700        3.35242   \n",
       "237       2.67321       2.67588       2.67864       2.68160        2.68481   \n",
       "238       3.05209       3.05769       3.06330       3.06903        3.07484   \n",
       "239       3.35968       3.36673       3.37386       3.38113        3.38858   \n",
       "\n",
       "     ...  principal_component_16  principal_component_17  \\\n",
       "0    ...                0.233876                0.899661   \n",
       "1    ...               -0.195980               -0.046359   \n",
       "2    ...                0.795466                0.762246   \n",
       "3    ...                0.616500               -0.388684   \n",
       "4    ...               -1.095540               -1.348450   \n",
       "..   ...                     ...                     ...   \n",
       "235  ...               -0.897510               -1.094940   \n",
       "236  ...               -1.033330               -1.196250   \n",
       "237  ...                0.413767                0.500473   \n",
       "238  ...               -0.250646               -0.298301   \n",
       "239  ...               -1.494400               -1.082530   \n",
       "\n",
       "     principal_component_18  principal_component_19  principal_component_20  \\\n",
       "0                 -0.042006                0.708717               -0.254173   \n",
       "1                 -0.634996               -0.354403                0.014650   \n",
       "2                 -1.268580                0.690588               -0.785592   \n",
       "3                 -2.068390                1.276160               -0.259437   \n",
       "4                  0.453559                0.402624                0.031307   \n",
       "..                      ...                     ...                     ...   \n",
       "235               -0.047774               -1.072080                0.683963   \n",
       "236                0.991593               -0.987896                0.813800   \n",
       "237               -0.232210                0.160583               -0.456995   \n",
       "238               -0.223632               -0.436276                0.372878   \n",
       "239                0.798304               -1.252180                1.245670   \n",
       "\n",
       "     principal_component_21  principal_component_22  moisture   fat  protein  \n",
       "0                 -0.391579               -0.419313      60.5  22.5     16.7  \n",
       "1                  0.269542                0.096692      46.0  40.1     13.5  \n",
       "2                 -0.671237               -0.710290      71.0   8.4     20.5  \n",
       "3                 -0.140206               -0.165963      72.8   5.9     20.7  \n",
       "4                  0.021824                0.145777      58.3  25.5     15.5  \n",
       "..                      ...                     ...       ...   ...      ...  \n",
       "235                0.743673                0.824097      70.0   6.6     23.2  \n",
       "236                0.919915                0.950013      69.7   7.1     23.2  \n",
       "237               -0.425684               -0.438117      69.1   7.7     22.9  \n",
       "238                0.288446                0.383060      66.3  10.4     22.4  \n",
       "239                1.284390                1.229940      65.2  12.3     22.5  \n",
       "\n",
       "[240 rows x 125 columns]"
      ]
     },
     "execution_count": 12,
     "metadata": {},
     "output_type": "execute_result"
    }
   ],
   "source": [
    "df"
   ]
  },
  {
   "cell_type": "code",
   "execution_count": 13,
   "metadata": {},
   "outputs": [],
   "source": [
    "X = np.array(df[df.columns[:100]])"
   ]
  },
  {
   "cell_type": "code",
   "execution_count": 14,
   "metadata": {},
   "outputs": [],
   "source": [
    "Y = np.array(df[['moisture','fat','protein']])/100"
   ]
  },
  {
   "cell_type": "markdown",
   "metadata": {},
   "source": [
    "# Results with GB"
   ]
  },
  {
   "cell_type": "code",
   "execution_count": 190,
   "metadata": {},
   "outputs": [
    {
     "name": "stdout",
     "output_type": "stream",
     "text": [
      "Wall time: 15min\n"
     ]
    }
   ],
   "source": [
    "%%time\n",
    "list_iter = np.arange(100)\n",
    "with Pool(10) as pool:\n",
    "    all_res_parallel_gb = pool.map(partial(performances_evaluation.eval_perf_gb, X=X, Y=Y, k_folds=10), list_iter)"
   ]
  },
  {
   "cell_type": "code",
   "execution_count": 452,
   "metadata": {},
   "outputs": [],
   "source": [
    "r2_compositional_tot_gb, r2_raw_tot_gb, r2_logratio_tot_gb = [],[],[]\n",
    "logloss_compositional_tot_gb, logloss_raw_tot_gb, logloss_logratio_tot_gb = [], [], []\n",
    "rmse_compositional_tot_gb, rmse_raw_tot_gb, rmse_logratio_tot_gb = [], [], []\n",
    "accuracy_compositional_tot_gb, accuracy_raw_tot_gb, accuracy_logratio_tot_gb = [], [], []\n",
    "f1_compositional_tot_gb, f1_raw_tot_gb, f1_logratio_tot_gb = [], [], []\n",
    "\n",
    "r2_compositional_std_gb, r2_raw_std_gb, r2_logratio_std_gb = [], [], []\n",
    "logloss_compositional_std_gb, logloss_raw_std_gb, logloss_logratio_std_gb = [], [], []\n",
    "rmse_compositional_std_gb, rmse_raw_std_gb, rmse_logratio_std_gb = [], [], []\n",
    "accuracy_compositional_std_gb, accuracy_raw_std_gb, accuracy_logratio_std_gb = [], [], []\n",
    "f1_compositional_std_gb, f1_raw_std_gb, f1_logratio_std_gb = [], [], []\n",
    "\n",
    "r2_compositional, r2_raw, r2_logratio = [], [], []\n",
    "logloss_compositional, logloss_raw, logloss_logratio = [], [], []\n",
    "rmse_compositional, rmse_raw, rmse_logratio = [], [], []\n",
    "accuracy_compositional, accuracy_raw, accuracy_logratio = [], [], []\n",
    "f1_compositional, f1_raw, f1_logratio = [], [], []"
   ]
  },
  {
   "cell_type": "code",
   "execution_count": 453,
   "metadata": {},
   "outputs": [],
   "source": [
    "for i in range(len(all_res_parallel_gb)):\n",
    "    r2_compositional_temp, r2_raw_temp, r2_logratio_temp, logloss_compositional_temp, logloss_raw_temp, logloss_logratio_temp, rmse_compositional_temp, rmse_raw_temp, rmse_logratio_temp, accuracy_compositional_temp, accuracy_raw_temp, accuracy_logratio_temp, f1_compositional_temp, f1_raw_temp, f1_logratio_temp = all_res_parallel_gb[i]\n",
    "    r2_compositional.append(np.round(np.mean(r2_compositional_temp,axis=0),5))\n",
    "    r2_raw.append(np.round(np.mean(r2_raw_temp,axis=0),5))\n",
    "    r2_logratio.append(np.round(np.mean(r2_logratio_temp,axis=0),5))\n",
    "    logloss_compositional.append(np.round(np.mean(logloss_compositional_temp),5))\n",
    "    logloss_raw.append(np.round(np.mean(logloss_raw_temp),5))\n",
    "    logloss_logratio.append(np.round(np.mean(logloss_logratio_temp),5))\n",
    "    rmse_compositional.append(np.round(np.mean(rmse_compositional_temp),5))\n",
    "    rmse_raw.append(np.round(np.mean(rmse_raw_temp),5))\n",
    "    rmse_logratio.append(np.round(np.mean(rmse_logratio_temp),5))\n",
    "    accuracy_compositional.append(np.round(np.mean(accuracy_compositional_temp),5))\n",
    "    accuracy_raw.append(np.round(np.mean(accuracy_raw_temp),5))\n",
    "    accuracy_logratio.append(np.round(np.mean(accuracy_logratio_temp),5))\n",
    "    f1_compositional.append(np.round(np.mean(f1_compositional_temp,axis=0),5))\n",
    "    f1_raw.append(np.round(np.mean(f1_raw_temp,axis=0),5))\n",
    "    f1_logratio.append(np.round(np.mean(f1_logratio_temp,axis=0),5))\n",
    "\n",
    "r2_compositional_tot_gb.append(np.round(np.mean(r2_compositional,axis=0),5))\n",
    "r2_raw_tot_gb.append(np.round(np.mean(r2_raw,axis=0),5))\n",
    "r2_logratio_tot_gb.append(np.round(np.mean(r2_logratio,axis=0),5))\n",
    "logloss_compositional_tot_gb.append(np.round(np.mean(logloss_compositional),5))\n",
    "logloss_raw_tot_gb.append(np.round(np.mean(logloss_raw),5))\n",
    "logloss_logratio_tot_gb.append(np.round(np.mean(logloss_logratio),5))\n",
    "rmse_compositional_tot_gb.append(np.round(np.mean(rmse_compositional),5))\n",
    "rmse_raw_tot_gb.append(np.round(np.mean(rmse_raw),5))\n",
    "rmse_logratio_tot_gb.append(np.round(np.mean(rmse_logratio),5))\n",
    "accuracy_compositional_tot_gb.append(np.round(np.mean(accuracy_compositional),5))\n",
    "accuracy_raw_tot_gb.append(np.round(np.mean(accuracy_raw),5))\n",
    "accuracy_logratio_tot_gb.append(np.round(np.mean(accuracy_logratio),5))\n",
    "f1_compositional_tot_gb.append(np.round(np.mean(f1_compositional,axis=0),5))\n",
    "f1_raw_tot_gb.append(np.round(np.mean(f1_raw,axis=0),5))\n",
    "f1_logratio_tot_gb.append(np.round(np.mean(f1_logratio,axis=0),5))\n",
    "\n",
    "r2_compositional_std_gb.append(np.round(np.std(r2_compositional,axis=0),5))\n",
    "r2_raw_std_gb.append(np.round(np.std(r2_raw,axis=0),5))\n",
    "r2_logratio_std_gb.append(np.round(np.std(r2_logratio,axis=0),5))\n",
    "logloss_compositional_std_gb.append(np.round(np.std(logloss_compositional),5))\n",
    "logloss_raw_std_gb.append(np.round(np.std(logloss_raw),5))\n",
    "logloss_logratio_std_gb.append(np.round(np.std(logloss_logratio),5))\n",
    "rmse_compositional_std_gb.append(np.round(np.std(rmse_compositional),5))\n",
    "rmse_raw_std_gb.append(np.round(np.std(rmse_raw),5))\n",
    "rmse_logratio_std_gb.append(np.round(np.std(rmse_logratio),5))\n",
    "accuracy_compositional_std_gb.append(np.round(np.std(accuracy_compositional),5))\n",
    "accuracy_raw_std_gb.append(np.round(np.std(accuracy_raw),5))\n",
    "accuracy_logratio_std_gb.append(np.round(np.std(accuracy_logratio),5))\n",
    "f1_compositional_std_gb.append(np.round(np.std(f1_compositional,axis=0),5))\n",
    "f1_raw_std_gb.append(np.round(np.std(f1_raw,axis=0),5))\n",
    "f1_logratio_std_gb.append(np.round(np.std(f1_logratio,axis=0),5))"
   ]
  },
  {
   "cell_type": "code",
   "execution_count": 439,
   "metadata": {},
   "outputs": [
    {
     "name": "stdout",
     "output_type": "stream",
     "text": [
      "+-------------------------------------------------------------------------+\n",
      "|           RESULTS ON TECATOR DATA WITH GRADIENT BOOSTING TREE           |\n",
      "+---------------+----------+---------------+----------+---------+---------+\n",
      "|     Model     | Accuracy | Cross-entropy | F1-score |   RMSE  |    R2   |\n",
      "+---------------+----------+---------------+----------+---------+---------+\n",
      "|      Raw      | 0.93217  |    0.86032    | 0.70088  | 0.04584 | 0.71739 |\n",
      "| Compositional | 0.95737  |    0.85992    | 0.83409  | 0.04393 | 0.72921 |\n",
      "|    Logratio   | 0.95687  |    0.85991    | 0.82982  | 0.04382 | 0.72978 |\n",
      "+---------------+----------+---------------+----------+---------+---------+\n"
     ]
    }
   ],
   "source": [
    "columns_names = ['Model', 'Accuracy', 'Cross-entropy', 'F1-score', 'RMSE', 'R2']\n",
    "rows_names = ['Raw', 'Compositional', 'Logratio']\n",
    "\n",
    "pt = PrettyTable(['Model', 'Accuracy', 'Cross-entropy', 'F1-score', 'RMSE', 'R2'])\n",
    "pt.title = 'RESULTS ON TECATOR DATA WITH GRADIENT BOOSTING TREE'\n",
    "pt.add_row(['Raw',accuracy_raw_tot_gb[0], logloss_raw_tot_gb[0], np.round(np.mean(f1_raw_tot_gb),5), rmse_raw_tot_gb[0], np.round(np.mean(r2_raw_tot_gb),5)])\n",
    "pt.add_row(['Compositional',accuracy_compositional_tot_gb[0], logloss_compositional_tot_gb[0], np.round(np.mean(f1_compositional_tot_gb),5), rmse_compositional_tot_gb[0], np.round(np.mean(r2_compositional_tot_gb),5)])\n",
    "pt.add_row(['Logratio',accuracy_logratio_tot_gb[0], logloss_logratio_tot_gb[0], np.round(np.mean(f1_logratio_tot_gb),5), rmse_logratio_tot_gb[0], np.round(np.mean(r2_logratio_tot_gb),5)])\n",
    "\n",
    "print(pt)"
   ]
  },
  {
   "cell_type": "code",
   "execution_count": 454,
   "metadata": {},
   "outputs": [
    {
     "name": "stdout",
     "output_type": "stream",
     "text": [
      "+-------------------------------------------------------------------------+\n",
      "|             STD ON TECATOR DATA WITH GRADIENT BOOSTING TREE             |\n",
      "+---------------+----------+---------------+----------+---------+---------+\n",
      "|     Model     | Accuracy | Cross-entropy | F1-score |   RMSE  |    R2   |\n",
      "+---------------+----------+---------------+----------+---------+---------+\n",
      "|      Raw      | 0.00575  |    0.00116    |  0.042   |  0.0013 | 0.02263 |\n",
      "| Compositional | 0.00792  |    0.00152    |  0.0459  | 0.00163 | 0.02585 |\n",
      "|    Logratio   | 0.00804  |    0.00141    | 0.04597  | 0.00167 | 0.02668 |\n",
      "+---------------+----------+---------------+----------+---------+---------+\n"
     ]
    }
   ],
   "source": [
    "columns_names = ['Model', 'Accuracy', 'Cross-entropy', 'F1-score', 'RMSE', 'R2']\n",
    "rows_names = ['Raw', 'Compositional', 'Logratio']\n",
    "\n",
    "pt = PrettyTable(['Model', 'Accuracy', 'Cross-entropy', 'F1-score', 'RMSE', 'R2'])\n",
    "pt.title = 'STD ON TECATOR DATA WITH GRADIENT BOOSTING TREE'\n",
    "pt.add_row(['Raw',accuracy_raw_std_gb[0], logloss_raw_std_gb[0], np.round(np.mean(f1_raw_std_gb),5), rmse_raw_std_gb[0], np.round(np.mean(r2_raw_std_gb),5)])\n",
    "pt.add_row(['Compositional',accuracy_compositional_std_gb[0], logloss_compositional_std_gb[0], np.round(np.mean(f1_compositional_std_gb),5), rmse_compositional_std_gb[0], np.round(np.mean(r2_compositional_std_gb),5)])\n",
    "pt.add_row(['Logratio',accuracy_logratio_std_gb[0], logloss_logratio_std_gb[0], np.round(np.mean(f1_logratio_std_gb),5), rmse_logratio_std_gb[0], np.round(np.mean(r2_logratio_std_gb),5)])\n",
    "\n",
    "print(pt)"
   ]
  },
  {
   "cell_type": "code",
   "execution_count": 440,
   "metadata": {},
   "outputs": [
    {
     "name": "stdout",
     "output_type": "stream",
     "text": [
      "Ttest_indResult(statistic=-25.62298298982579, pvalue=8.672155738269694e-65)\n",
      "Ttest_indResult(statistic=-24.867728167027167, pvalue=8.015573986360687e-63)\n",
      "Ttest_indResult(statistic=2.073059172330889, pvalue=0.0394613456387005)\n",
      "Ttest_indResult(statistic=2.225164276997334, pvalue=0.0271987291085655)\n",
      "Ttest_indResult(statistic=9.108360461503038, pvalue=9.260034851331745e-17)\n",
      "Ttest_indResult(statistic=9.482608266026887, pvalue=7.999678225365742e-18)\n",
      "Ttest_indResult(statistic=-4.019823234658909, pvalue=8.274579392418546e-05)\n",
      "Ttest_indResult(statistic=-4.125454311054905, pvalue=5.445328809763592e-05)\n",
      "Ttest_indResult(statistic=-21.643383388029434, pvalue=4.4306211120528716e-54)\n",
      "Ttest_indResult(statistic=-20.919722281480716, pvalue=4.846477892261697e-52)\n"
     ]
    }
   ],
   "source": [
    "print(ttest_ind(accuracy_raw,accuracy_compositional))\n",
    "print(ttest_ind(accuracy_raw,accuracy_logratio))\n",
    "\n",
    "print(ttest_ind(logloss_raw,logloss_compositional))\n",
    "print(ttest_ind(logloss_raw,logloss_logratio))\n",
    "\n",
    "print(ttest_ind(rmse_raw,rmse_compositional))\n",
    "print(ttest_ind(rmse_raw,rmse_logratio))\n",
    "\n",
    "print(ttest_ind(np.mean(r2_raw,axis=1),np.mean(r2_compositional,axis=1)))\n",
    "print(ttest_ind(np.mean(r2_raw,axis=1),np.mean(r2_logratio,axis=1)))\n",
    "\n",
    "print(ttest_ind(np.mean(f1_raw,axis=1),np.mean(f1_compositional,axis=1)))\n",
    "print(ttest_ind(np.mean(f1_raw,axis=1),np.mean(f1_logratio,axis=1)))"
   ]
  },
  {
   "cell_type": "markdown",
   "metadata": {},
   "source": [
    "# With NN"
   ]
  },
  {
   "cell_type": "code",
   "execution_count": 442,
   "metadata": {},
   "outputs": [
    {
     "name": "stdout",
     "output_type": "stream",
     "text": [
      "Wall time: 11min 31s\n"
     ]
    }
   ],
   "source": [
    "%%time\n",
    "list_iter = np.arange(100)\n",
    "with Pool(10) as pool:\n",
    "    all_res_parallel_nn = pool.map(partial(performances_evaluation.eval_perf_nn, X=X, Y=Y, k_folds=10), list_iter)"
   ]
  },
  {
   "cell_type": "code",
   "execution_count": 443,
   "metadata": {},
   "outputs": [],
   "source": [
    "r2_compositional_tot_nn, r2_raw_tot_nn, r2_logratio_tot_nn = [],[],[]\n",
    "logloss_compositional_tot_nn, logloss_raw_tot_nn, logloss_logratio_tot_nn = [], [], []\n",
    "rmse_compositional_tot_nn, rmse_raw_tot_nn, rmse_logratio_tot_nn = [], [], []\n",
    "accuracy_compositional_tot_nn, accuracy_raw_tot_nn, accuracy_logratio_tot_nn = [], [], []\n",
    "f1_compositional_tot_nn, f1_raw_tot_nn, f1_logratio_tot_nn = [], [], []\n",
    "\n",
    "r2_compositional_std_nn, r2_raw_std_nn, r2_logratio_std_nn = [], [], []\n",
    "logloss_compositional_std_nn, logloss_raw_std_nn, logloss_logratio_std_nn = [], [], []\n",
    "rmse_compositional_std_nn, rmse_raw_std_nn, rmse_logratio_std_nn = [], [], []\n",
    "accuracy_compositional_std_nn, accuracy_raw_std_nn, accuracy_logratio_std_nn = [], [], []\n",
    "f1_compositional_std_nn, f1_raw_std_nn, f1_logratio_std_nn = [], [], []\n",
    "\n",
    "r2_compositional, r2_raw, r2_logratio = [], [], []\n",
    "logloss_compositional, logloss_raw, logloss_logratio = [], [], []\n",
    "rmse_compositional, rmse_raw, rmse_logratio = [], [], []\n",
    "accuracy_compositional, accuracy_raw, accuracy_logratio = [], [], []\n",
    "f1_compositional, f1_raw, f1_logratio = [], [], []"
   ]
  },
  {
   "cell_type": "code",
   "execution_count": 444,
   "metadata": {},
   "outputs": [],
   "source": [
    "for i in range(len(all_res_parallel_nn)):\n",
    "    r2_compositional_temp, r2_raw_temp, r2_logratio_temp, logloss_compositional_temp, logloss_raw_temp, logloss_logratio_temp, rmse_compositional_temp, rmse_raw_temp, rmse_logratio_temp, accuracy_compositional_temp, accuracy_raw_temp, accuracy_logratio_temp, f1_compositional_temp, f1_raw_temp, f1_logratio_temp = all_res_parallel_nn[i]\n",
    "    r2_compositional.append(np.round(np.mean(r2_compositional_temp,axis=0),5))\n",
    "    r2_raw.append(np.round(np.mean(r2_raw_temp,axis=0),5))\n",
    "    r2_logratio.append(np.round(np.mean(r2_logratio_temp,axis=0),5))\n",
    "    logloss_compositional.append(np.round(np.mean(logloss_compositional_temp),5))\n",
    "    logloss_raw.append(np.round(np.mean(logloss_raw_temp),5))\n",
    "    logloss_logratio.append(np.round(np.mean(logloss_logratio_temp),5))\n",
    "    rmse_compositional.append(np.round(np.mean(rmse_compositional_temp),5))\n",
    "    rmse_raw.append(np.round(np.mean(rmse_raw_temp),5))\n",
    "    rmse_logratio.append(np.round(np.mean(rmse_logratio_temp),5))\n",
    "    accuracy_compositional.append(np.round(np.mean(accuracy_compositional_temp),5))\n",
    "    accuracy_raw.append(np.round(np.mean(accuracy_raw_temp),5))\n",
    "    accuracy_logratio.append(np.round(np.mean(accuracy_logratio_temp),5))\n",
    "    f1_compositional.append(np.round(np.mean(f1_compositional_temp,axis=0),5))\n",
    "    f1_raw.append(np.round(np.mean(f1_raw_temp,axis=0),5))\n",
    "    f1_logratio.append(np.round(np.mean(f1_logratio_temp,axis=0),5))\n",
    "\n",
    "r2_compositional_tot_nn.append(np.round(np.mean(r2_compositional,axis=0),5))\n",
    "r2_raw_tot_nn.append(np.round(np.mean(r2_raw,axis=0),5))\n",
    "r2_logratio_tot_nn.append(np.round(np.mean(r2_logratio,axis=0),5))\n",
    "logloss_compositional_tot_nn.append(np.round(np.mean(logloss_compositional),5))\n",
    "logloss_raw_tot_nn.append(np.round(np.mean(logloss_raw),5))\n",
    "logloss_logratio_tot_nn.append(np.round(np.mean(logloss_logratio),5))\n",
    "rmse_compositional_tot_nn.append(np.round(np.mean(rmse_compositional),5))\n",
    "rmse_raw_tot_nn.append(np.round(np.mean(rmse_raw),5))\n",
    "rmse_logratio_tot_nn.append(np.round(np.mean(rmse_logratio),5))\n",
    "accuracy_compositional_tot_nn.append(np.round(np.mean(accuracy_compositional),5))\n",
    "accuracy_raw_tot_nn.append(np.round(np.mean(accuracy_raw),5))\n",
    "accuracy_logratio_tot_nn.append(np.round(np.mean(accuracy_logratio),5))\n",
    "f1_compositional_tot_nn.append(np.round(np.mean(f1_compositional,axis=0),5))\n",
    "f1_raw_tot_nn.append(np.round(np.mean(f1_raw,axis=0),5))\n",
    "f1_logratio_tot_nn.append(np.round(np.mean(f1_logratio,axis=0),5))\n",
    "\n",
    "r2_compositional_std_nn.append(np.round(np.std(r2_compositional,axis=0),5))\n",
    "r2_raw_std_nn.append(np.round(np.std(r2_raw,axis=0),5))\n",
    "r2_logratio_std_nn.append(np.round(np.std(r2_logratio,axis=0),5))\n",
    "logloss_compositional_std_nn.append(np.round(np.std(logloss_compositional),5))\n",
    "logloss_raw_std_nn.append(np.round(np.std(logloss_raw),5))\n",
    "logloss_logratio_std_nn.append(np.round(np.std(logloss_logratio),5))\n",
    "rmse_compositional_std_nn.append(np.round(np.std(rmse_compositional),5))\n",
    "rmse_raw_std_nn.append(np.round(np.std(rmse_raw),5))\n",
    "rmse_logratio_std_nn.append(np.round(np.std(rmse_logratio),5))\n",
    "accuracy_compositional_std_nn.append(np.round(np.std(accuracy_compositional),5))\n",
    "accuracy_raw_std_nn.append(np.round(np.std(accuracy_raw),5))\n",
    "accuracy_logratio_std_nn.append(np.round(np.std(accuracy_logratio),5))\n",
    "f1_compositional_std_nn.append(np.round(np.std(f1_compositional,axis=0),5))\n",
    "f1_raw_std_nn.append(np.round(np.std(f1_raw,axis=0),5))\n",
    "f1_logratio_std_nn.append(np.round(np.std(f1_logratio,axis=0),5))"
   ]
  },
  {
   "cell_type": "code",
   "execution_count": 445,
   "metadata": {},
   "outputs": [
    {
     "name": "stdout",
     "output_type": "stream",
     "text": [
      "+--------------------------------------------------------------------------+\n",
      "|               RESULTS ON TECATOR DATA WITH NEURAL NETWORK                |\n",
      "+---------------+----------+---------------+----------+---------+----------+\n",
      "|     Model     | Accuracy | Cross-entropy | F1-score |   RMSE  |    R2    |\n",
      "+---------------+----------+---------------+----------+---------+----------+\n",
      "|      Raw      | 0.90833  |    0.92784    | 0.51157  | 0.11315 | -1.23005 |\n",
      "| Compositional | 0.90441  |    0.93732    | 0.51167  | 0.12246 | -1.15782 |\n",
      "|    Logratio   | 0.90391  |    0.93757    | 0.51334  | 0.12242 | -1.15553 |\n",
      "+---------------+----------+---------------+----------+---------+----------+\n"
     ]
    }
   ],
   "source": [
    "columns_names = ['Model', 'Accuracy', 'Cross-entropy', 'F1-score', 'RMSE', 'R2']\n",
    "rows_names = ['Raw', 'Compositional', 'Logratio']\n",
    "\n",
    "pt = PrettyTable(['Model', 'Accuracy', 'Cross-entropy', 'F1-score', 'RMSE', 'R2'])\n",
    "pt.title = 'RESULTS ON TECATOR DATA WITH NEURAL NETWORK'\n",
    "pt.add_row(['Raw',accuracy_raw_tot_nn[0], logloss_raw_tot_nn[0], np.round(np.mean(f1_raw_tot_nn),5), rmse_raw_tot_nn[0], np.round(np.mean(r2_raw_tot_nn),5)])\n",
    "pt.add_row(['Compositional',accuracy_compositional_tot_nn[0], logloss_compositional_tot_nn[0], np.round(np.mean(f1_compositional_tot_nn),5), rmse_compositional_tot_nn[0], np.round(np.mean(r2_compositional_tot_nn),5)])\n",
    "pt.add_row(['Logratio',accuracy_logratio_tot_nn[0], logloss_logratio_tot_nn[0], np.round(np.mean(f1_logratio_tot_nn),5), rmse_logratio_tot_nn[0], np.round(np.mean(r2_logratio_tot_nn),5)])\n",
    "\n",
    "print(pt)"
   ]
  },
  {
   "cell_type": "code",
   "execution_count": 451,
   "metadata": {},
   "outputs": [
    {
     "name": "stdout",
     "output_type": "stream",
     "text": [
      "+-------------------------------------------------------------------------+\n",
      "|                 STD ON TECATOR DATA WITH NEURAL NETWORK                 |\n",
      "+---------------+----------+---------------+----------+---------+---------+\n",
      "|     Model     | Accuracy | Cross-entropy | F1-score |   RMSE  |    R2   |\n",
      "+---------------+----------+---------------+----------+---------+---------+\n",
      "|      Raw      |   0.0    |    0.00888    | 0.03557  | 0.00455 | 0.48424 |\n",
      "| Compositional | 0.01561  |    0.01025    | 0.04446  | 0.00714 |  0.4658 |\n",
      "|    Logratio   | 0.01374  |    0.01036    | 0.04357  | 0.00709 | 0.44906 |\n",
      "+---------------+----------+---------------+----------+---------+---------+\n"
     ]
    }
   ],
   "source": [
    "columns_names = ['Model', 'Accuracy', 'Cross-entropy', 'F1-score', 'RMSE', 'R2']\n",
    "rows_names = ['Raw', 'Compositional', 'Logratio']\n",
    "\n",
    "pt = PrettyTable(['Model', 'Accuracy', 'Cross-entropy', 'F1-score', 'RMSE', 'R2'])\n",
    "pt.title = 'STD ON TECATOR DATA WITH NEURAL NETWORK'\n",
    "pt.add_row(['Raw',accuracy_raw_std_nn[0], logloss_raw_std_nn[0], np.round(np.mean(f1_raw_std_nn),5), rmse_raw_std_nn[0], np.round(np.mean(r2_raw_std_nn),5)])\n",
    "pt.add_row(['Compositional',accuracy_compositional_std_nn[0], logloss_compositional_std_nn[0], np.round(np.mean(f1_compositional_std_nn),5), rmse_compositional_std_nn[0], np.round(np.mean(r2_compositional_std_nn),5)])\n",
    "pt.add_row(['Logratio',accuracy_logratio_std_nn[0], logloss_logratio_std_nn[0], np.round(np.mean(f1_logratio_std_nn),5), rmse_logratio_std_nn[0], np.round(np.mean(r2_logratio_std_nn),5)])\n",
    "\n",
    "print(pt)"
   ]
  },
  {
   "cell_type": "code",
   "execution_count": 446,
   "metadata": {
    "scrolled": true
   },
   "outputs": [
    {
     "name": "stdout",
     "output_type": "stream",
     "text": [
      "Ttest_indResult(statistic=2.4962812636535463, pvalue=0.013366538888636223)\n",
      "Ttest_indResult(statistic=3.1976217697509752, pvalue=0.0016133137695019174)\n"
     ]
    },
    {
     "name": "stderr",
     "output_type": "stream",
     "text": [
      "C:\\Users\\46660461\\AppData\\Local\\Temp\\ipykernel_14808\\2907755732.py:1: RuntimeWarning: Precision loss occurred in moment calculation due to catastrophic cancellation. This occurs when the data are nearly identical. Results may be unreliable.\n",
      "  print(ttest_ind(accuracy_raw,accuracy_compositional))\n",
      "C:\\Users\\46660461\\AppData\\Local\\Temp\\ipykernel_14808\\2907755732.py:2: RuntimeWarning: Precision loss occurred in moment calculation due to catastrophic cancellation. This occurs when the data are nearly identical. Results may be unreliable.\n",
      "  print(ttest_ind(accuracy_raw,accuracy_logratio))\n"
     ]
    }
   ],
   "source": [
    "print(ttest_ind(accuracy_raw,accuracy_compositional))\n",
    "print(ttest_ind(accuracy_raw,accuracy_logratio))"
   ]
  },
  {
   "cell_type": "code",
   "execution_count": 447,
   "metadata": {},
   "outputs": [
    {
     "name": "stdout",
     "output_type": "stream",
     "text": [
      "Ttest_indResult(statistic=-6.960603897528682, pvalue=4.858596394217011e-11)\n",
      "Ttest_indResult(statistic=-7.098901374546781, pvalue=2.1983758932171904e-11)\n"
     ]
    }
   ],
   "source": [
    "print(ttest_ind(logloss_raw,logloss_compositional))\n",
    "print(ttest_ind(logloss_raw,logloss_logratio))"
   ]
  },
  {
   "cell_type": "code",
   "execution_count": 448,
   "metadata": {},
   "outputs": [
    {
     "name": "stdout",
     "output_type": "stream",
     "text": [
      "Ttest_indResult(statistic=-10.942304998546849, pvalue=4.236479719387598e-22)\n",
      "Ttest_indResult(statistic=-10.956154287288452, pvalue=3.8516983819746614e-22)\n"
     ]
    }
   ],
   "source": [
    "print(ttest_ind(rmse_raw,rmse_compositional))\n",
    "print(ttest_ind(rmse_raw,rmse_logratio))"
   ]
  },
  {
   "cell_type": "code",
   "execution_count": 449,
   "metadata": {},
   "outputs": [
    {
     "name": "stdout",
     "output_type": "stream",
     "text": [
      "Ttest_indResult(statistic=-1.385454881414254, pvalue=0.1674721242509481)\n",
      "Ttest_indResult(statistic=-1.4578657076340034, pvalue=0.14646184548533367)\n"
     ]
    }
   ],
   "source": [
    "print(ttest_ind(np.mean(r2_raw,axis=1),np.mean(r2_compositional,axis=1)))\n",
    "print(ttest_ind(np.mean(r2_raw,axis=1),np.mean(r2_logratio,axis=1)))"
   ]
  },
  {
   "cell_type": "code",
   "execution_count": 450,
   "metadata": {},
   "outputs": [
    {
     "name": "stdout",
     "output_type": "stream",
     "text": [
      "Ttest_indResult(statistic=-0.018915206468209864, pvalue=0.9849277957474469)\n",
      "Ttest_indResult(statistic=-0.3458458377063507, pvalue=0.7298257623857743)\n"
     ]
    }
   ],
   "source": [
    "print(ttest_ind(np.mean(f1_raw,axis=1),np.mean(f1_compositional,axis=1)))\n",
    "print(ttest_ind(np.mean(f1_raw,axis=1),np.mean(f1_logratio,axis=1)))"
   ]
  },
  {
   "cell_type": "markdown",
   "metadata": {},
   "source": [
    "# With Dirichlet"
   ]
  },
  {
   "cell_type": "markdown",
   "metadata": {},
   "source": [
    "With 100 features : 45min to make 5 iterations (with 5 threads and 10-folds). We thus take the PCA to reduce the number of features."
   ]
  },
  {
   "cell_type": "code",
   "execution_count": 26,
   "metadata": {},
   "outputs": [],
   "source": [
    "X_pca = np.array(df[df.columns[100:-3]])"
   ]
  },
  {
   "cell_type": "code",
   "execution_count": 58,
   "metadata": {},
   "outputs": [
    {
     "name": "stdout",
     "output_type": "stream",
     "text": [
      "Wall time: 32min 50s\n"
     ]
    }
   ],
   "source": [
    "%%time\n",
    "list_iter = np.arange(50,100)\n",
    "with Pool(10) as pool:\n",
    "    all_res_parallel_dirichlet = pool.map(partial(performances_evaluation.eval_perf_dirichlet, X=X_pca, Y=Y, k_folds=10), list_iter)"
   ]
  },
  {
   "cell_type": "code",
   "execution_count": 46,
   "metadata": {},
   "outputs": [],
   "source": [
    "r2_compositional_tot_dirichlet, r2_raw_tot_dirichlet, r2_logratio_tot_dirichlet = [],[],[]\n",
    "logloss_compositional_tot_dirichlet, logloss_raw_tot_dirichlet, logloss_logratio_tot_dirichlet = [], [], []\n",
    "rmse_compositional_tot_dirichlet, rmse_raw_tot_dirichlet, rmse_logratio_tot_dirichlet = [], [], []\n",
    "accuracy_compositional_tot_dirichlet, accuracy_raw_tot_dirichlet, accuracy_logratio_tot_dirichlet = [], [], []\n",
    "f1_compositional_tot_dirichlet, f1_raw_tot_dirichlet, f1_logratio_tot_dirichlet = [], [], []\n",
    "\n",
    "r2_compositional_std_dirichlet, r2_raw_std_dirichlet, r2_logratio_std_dirichlet = [], [], []\n",
    "logloss_compositional_std_dirichlet, logloss_raw_std_dirichlet, logloss_logratio_std_dirichlet = [], [], []\n",
    "rmse_compositional_std_dirichlet, rmse_raw_std_dirichlet, rmse_logratio_std_dirichlet = [], [], []\n",
    "accuracy_compositional_std_dirichlet, accuracy_raw_std_dirichlet, accuracy_logratio_std_dirichlet = [], [], []\n",
    "f1_compositional_std_dirichlet, f1_raw_std_dirichlet, f1_logratio_std_dirichlet = [], [], []"
   ]
  },
  {
   "cell_type": "code",
   "execution_count": 59,
   "metadata": {},
   "outputs": [],
   "source": [
    "for i in range(len(all_res_parallel_dirichlet)):\n",
    "    r2_compositional_temp, r2_raw_temp, r2_logratio_temp, logloss_compositional_temp, logloss_raw_temp, logloss_logratio_temp, rmse_compositional_temp, rmse_raw_temp, rmse_logratio_temp, accuracy_compositional_temp, accuracy_raw_temp, accuracy_logratio_temp, f1_compositional_temp, f1_raw_temp, f1_logratio_temp = all_res_parallel_dirichlet[i]\n",
    "    r2_compositional.append(np.round(np.mean(r2_compositional_temp,axis=0),5))\n",
    "    r2_raw.append(np.round(np.mean(r2_raw_temp,axis=0),5))\n",
    "    r2_logratio.append(np.round(np.mean(r2_logratio_temp,axis=0),5))\n",
    "    logloss_compositional.append(np.round(np.mean(logloss_compositional_temp),5))\n",
    "    logloss_raw.append(np.round(np.mean(logloss_raw_temp),5))\n",
    "    logloss_logratio.append(np.round(np.mean(logloss_logratio_temp),5))\n",
    "    rmse_compositional.append(np.round(np.mean(rmse_compositional_temp),5))\n",
    "    rmse_raw.append(np.round(np.mean(rmse_raw_temp),5))\n",
    "    rmse_logratio.append(np.round(np.mean(rmse_logratio_temp),5))\n",
    "    accuracy_compositional.append(np.round(np.mean(accuracy_compositional_temp),5))\n",
    "    accuracy_raw.append(np.round(np.mean(accuracy_raw_temp),5))\n",
    "    accuracy_logratio.append(np.round(np.mean(accuracy_logratio_temp),5))\n",
    "    f1_compositional.append(np.round(np.mean([np.mean(i) for i in f1_compositional_temp]),5))\n",
    "    f1_raw.append(np.round(np.mean([np.mean(i) for i in f1_raw_temp]),5))\n",
    "    f1_logratio.append(np.round(np.mean([np.mean(i) for i in f1_logratio_temp]),5))\n",
    "\n",
    "r2_compositional_tot_dirichlet.append(np.round(np.mean(r2_compositional,axis=0),5))\n",
    "r2_raw_tot_dirichlet.append(np.round(np.mean(r2_raw,axis=0),5))\n",
    "r2_logratio_tot_dirichlet.append(np.round(np.mean(r2_logratio,axis=0),5))\n",
    "logloss_compositional_tot_dirichlet.append(np.round(np.mean(logloss_compositional),5))\n",
    "logloss_raw_tot_dirichlet.append(np.round(np.mean(logloss_raw),5))\n",
    "logloss_logratio_tot_dirichlet.append(np.round(np.mean(logloss_logratio),5))\n",
    "rmse_compositional_tot_dirichlet.append(np.round(np.mean(rmse_compositional),5))\n",
    "rmse_raw_tot_dirichlet.append(np.round(np.mean(rmse_raw),5))\n",
    "rmse_logratio_tot_dirichlet.append(np.round(np.mean(rmse_logratio),5))\n",
    "accuracy_compositional_tot_dirichlet.append(np.round(np.mean(accuracy_compositional),5))\n",
    "accuracy_raw_tot_dirichlet.append(np.round(np.mean(accuracy_raw),5))\n",
    "accuracy_logratio_tot_dirichlet.append(np.round(np.mean(accuracy_logratio),5))\n",
    "f1_compositional_tot_dirichlet.append(np.round(np.mean(f1_compositional,axis=0),5))\n",
    "f1_raw_tot_dirichlet.append(np.round(np.mean(f1_raw,axis=0),5))\n",
    "f1_logratio_tot_dirichlet.append(np.round(np.mean(f1_logratio,axis=0),5))\n",
    "\n",
    "r2_compositional_std_dirichlet.append(np.round(np.std(r2_compositional,axis=0),5))\n",
    "r2_raw_std_dirichlet.append(np.round(np.std(r2_raw,axis=0),5))\n",
    "r2_logratio_std_dirichlet.append(np.round(np.std(r2_logratio,axis=0),5))\n",
    "logloss_compositional_std_dirichlet.append(np.round(np.std(logloss_compositional),5))\n",
    "logloss_raw_std_dirichlet.append(np.round(np.std(logloss_raw),5))\n",
    "logloss_logratio_std_dirichlet.append(np.round(np.std(logloss_logratio),5))\n",
    "rmse_compositional_std_dirichlet.append(np.round(np.std(rmse_compositional),5))\n",
    "rmse_raw_std_dirichlet.append(np.round(np.std(rmse_raw),5))\n",
    "rmse_logratio_std_dirichlet.append(np.round(np.std(rmse_logratio),5))\n",
    "accuracy_compositional_std_dirichlet.append(np.round(np.std(accuracy_compositional),5))\n",
    "accuracy_raw_std_dirichlet.append(np.round(np.std(accuracy_raw),5))\n",
    "accuracy_logratio_std_dirichlet.append(np.round(np.std(accuracy_logratio),5))\n",
    "f1_compositional_std_dirichlet.append(np.round(np.std(f1_compositional,axis=0),5))\n",
    "f1_raw_std_dirichlet.append(np.round(np.std(f1_raw,axis=0),5))\n",
    "f1_logratio_std_dirichlet.append(np.round(np.std(f1_logratio,axis=0),5))"
   ]
  },
  {
   "cell_type": "code",
   "execution_count": 60,
   "metadata": {},
   "outputs": [
    {
     "name": "stdout",
     "output_type": "stream",
     "text": [
      "+-------------------------------------------------------------------------+\n",
      "|               RESULTS ON TECATOR DATA WITH DIRICHLET MODEL              |\n",
      "+---------------+----------+---------------+----------+---------+---------+\n",
      "|     Model     | Accuracy | Cross-entropy | F1-score |   RMSE  |    R2   |\n",
      "+---------------+----------+---------------+----------+---------+---------+\n",
      "|      Raw      | 0.95475  |    0.85184    | 0.84568  | 0.04759 | 0.70751 |\n",
      "| Compositional | 0.93975  |    0.87708    | 0.80188  |  0.0721 | 0.32287 |\n",
      "|    Logratio   | 0.93983  |    0.87762    | 0.80027  | 0.07234 |  0.3101 |\n",
      "+---------------+----------+---------------+----------+---------+---------+\n"
     ]
    }
   ],
   "source": [
    "columns_names = ['Model', 'Accuracy', 'Cross-entropy', 'F1-score', 'RMSE', 'R2']\n",
    "rows_names = ['Raw', 'Compositional', 'Logratio']\n",
    "\n",
    "pt = PrettyTable(['Model', 'Accuracy', 'Cross-entropy', 'F1-score', 'RMSE', 'R2'])\n",
    "pt.title = 'RESULTS ON TECATOR DATA WITH DIRICHLET MODEL'\n",
    "pt.add_row(['Raw',accuracy_raw_tot_dirichlet[0], logloss_raw_tot_dirichlet[0], np.round(np.mean(f1_raw_tot_dirichlet),5), rmse_raw_tot_dirichlet[0], np.round(np.mean(r2_raw_tot_dirichlet),5)])\n",
    "pt.add_row(['Compositional',accuracy_compositional_tot_dirichlet[0], logloss_compositional_tot_dirichlet[0], np.round(np.mean(f1_compositional_tot_dirichlet),5), rmse_compositional_tot_dirichlet[0], np.round(np.mean(r2_compositional_tot_dirichlet),5)])\n",
    "pt.add_row(['Logratio',accuracy_logratio_tot_dirichlet[0], logloss_logratio_tot_dirichlet[0], np.round(np.mean(f1_logratio_tot_dirichlet),5), rmse_logratio_tot_dirichlet[0], np.round(np.mean(r2_logratio_tot_dirichlet),5)])\n",
    "\n",
    "print(pt)"
   ]
  },
  {
   "cell_type": "code",
   "execution_count": 61,
   "metadata": {},
   "outputs": [
    {
     "name": "stdout",
     "output_type": "stream",
     "text": [
      "+-------------------------------------------------------------------------+\n",
      "|                 STD ON TECATOR DATA WITH DIRICHLET MODEL                |\n",
      "+---------------+----------+---------------+----------+---------+---------+\n",
      "|     Model     | Accuracy | Cross-entropy | F1-score |   RMSE  |    R2   |\n",
      "+---------------+----------+---------------+----------+---------+---------+\n",
      "|      Raw      | 0.00682  |    0.00278    | 0.03713  | 0.00349 | 0.04473 |\n",
      "| Compositional | 0.01081  |    0.00475    |  0.0374  |  0.005  |  0.129  |\n",
      "|    Logratio   | 0.01112  |    0.00569    | 0.04352  | 0.00579 | 0.17616 |\n",
      "+---------------+----------+---------------+----------+---------+---------+\n"
     ]
    }
   ],
   "source": [
    "columns_names = ['Model', 'Accuracy', 'Cross-entropy', 'F1-score', 'RMSE', 'R2']\n",
    "rows_names = ['Raw', 'Compositional', 'Logratio']\n",
    "\n",
    "pt = PrettyTable(['Model', 'Accuracy', 'Cross-entropy', 'F1-score', 'RMSE', 'R2'])\n",
    "pt.title = 'STD ON TECATOR DATA WITH DIRICHLET MODEL'\n",
    "pt.add_row(['Raw',accuracy_raw_std_dirichlet[0], logloss_raw_std_dirichlet[0], np.round(np.mean(f1_raw_std_dirichlet),5), rmse_raw_std_dirichlet[0], np.round(np.mean(r2_raw_std_dirichlet),5)])\n",
    "pt.add_row(['Compositional',accuracy_compositional_std_dirichlet[0], logloss_compositional_std_dirichlet[0], np.round(np.mean(f1_compositional_std_dirichlet),5), rmse_compositional_std_dirichlet[0], np.round(np.mean(r2_compositional_std_dirichlet),5)])\n",
    "pt.add_row(['Logratio',accuracy_logratio_std_dirichlet[0], logloss_logratio_std_dirichlet[0], np.round(np.mean(f1_logratio_std_dirichlet),5), rmse_logratio_std_dirichlet[0], np.round(np.mean(r2_logratio_std_dirichlet),5)])\n",
    "\n",
    "print(pt)"
   ]
  },
  {
   "cell_type": "code",
   "execution_count": 62,
   "metadata": {
    "scrolled": true
   },
   "outputs": [
    {
     "name": "stdout",
     "output_type": "stream",
     "text": [
      "Ttest_indResult(statistic=10.903269328244843, pvalue=5.53984189090763e-22)\n",
      "Ttest_indResult(statistic=10.137365512998015, pvalue=1.0170512912545477e-19)\n"
     ]
    }
   ],
   "source": [
    "print(ttest_ind(accuracy_raw,accuracy_compositional))\n",
    "print(ttest_ind(accuracy_raw,accuracy_logratio))"
   ]
  },
  {
   "cell_type": "code",
   "execution_count": 63,
   "metadata": {},
   "outputs": [
    {
     "name": "stdout",
     "output_type": "stream",
     "text": [
      "Ttest_indResult(statistic=-45.37176198624103, pvalue=1.414826306224262e-106)\n",
      "Ttest_indResult(statistic=-38.6211988844346, pvalue=3.9733887908369947e-94)\n"
     ]
    }
   ],
   "source": [
    "print(ttest_ind(logloss_raw,logloss_compositional))\n",
    "print(ttest_ind(logloss_raw,logloss_logratio))"
   ]
  },
  {
   "cell_type": "code",
   "execution_count": 64,
   "metadata": {},
   "outputs": [
    {
     "name": "stdout",
     "output_type": "stream",
     "text": [
      "Ttest_indResult(statistic=-43.50301968714521, pvalue=2.749567574485415e-103)\n",
      "Ttest_indResult(statistic=-38.02246008890222, pvalue=6.079386002033005e-93)\n"
     ]
    }
   ],
   "source": [
    "print(ttest_ind(rmse_raw,rmse_compositional))\n",
    "print(ttest_ind(rmse_raw,rmse_logratio))"
   ]
  },
  {
   "cell_type": "code",
   "execution_count": 65,
   "metadata": {},
   "outputs": [
    {
     "name": "stdout",
     "output_type": "stream",
     "text": [
      "Ttest_indResult(statistic=33.665312860045546, pvalue=7.119674559250658e-84)\n",
      "Ttest_indResult(statistic=23.131895193113607, pvalue=3.4691638663232745e-58)\n"
     ]
    }
   ],
   "source": [
    "print(ttest_ind(np.mean(r2_raw,axis=1),np.mean(r2_compositional,axis=1)))\n",
    "print(ttest_ind(np.mean(r2_raw,axis=1),np.mean(r2_logratio,axis=1)))"
   ]
  },
  {
   "cell_type": "code",
   "execution_count": 66,
   "metadata": {},
   "outputs": [
    {
     "name": "stdout",
     "output_type": "stream",
     "text": [
      "Ttest_indResult(statistic=7.885254577757955, pvalue=2.067326969283283e-13)\n",
      "Ttest_indResult(statistic=7.338862078190062, pvalue=5.4405332831564244e-12)\n"
     ]
    }
   ],
   "source": [
    "print(ttest_ind(f1_raw,f1_compositional))\n",
    "print(ttest_ind(f1_raw,f1_logratio))"
   ]
  },
  {
   "cell_type": "code",
   "execution_count": null,
   "metadata": {},
   "outputs": [],
   "source": []
  }
 ],
 "metadata": {
  "kernelspec": {
   "display_name": "Python 3",
   "language": "python",
   "name": "python3"
  },
  "language_info": {
   "codemirror_mode": {
    "name": "ipython",
    "version": 3
   },
   "file_extension": ".py",
   "mimetype": "text/x-python",
   "name": "python",
   "nbconvert_exporter": "python",
   "pygments_lexer": "ipython3",
   "version": "3.8.5"
  }
 },
 "nbformat": 4,
 "nbformat_minor": 4
}
